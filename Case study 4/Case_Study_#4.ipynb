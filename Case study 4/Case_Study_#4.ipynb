{
 "cells": [
  {
   "cell_type": "markdown",
   "id": "076d2ac5",
   "metadata": {},
   "source": [
    "# Testing of Hypothesis"
   ]
  },
  {
   "cell_type": "code",
   "execution_count": 1,
   "id": "1ca66536",
   "metadata": {},
   "outputs": [],
   "source": [
    "# Importing necessary libraries\n",
    "import pandas as pd\n",
    "import numpy as np\n",
    "import matplotlib.pyplot as plt\n",
    "from scipy import stats"
   ]
  },
  {
   "cell_type": "code",
   "execution_count": 2,
   "id": "2a356500",
   "metadata": {},
   "outputs": [],
   "source": [
    "# Read the data to Python environment\n",
    "data = pd.read_csv('Sales_add.csv')"
   ]
  },
  {
   "cell_type": "code",
   "execution_count": 3,
   "id": "4f73bcda",
   "metadata": {},
   "outputs": [
    {
     "data": {
      "text/html": [
       "<div>\n",
       "<style scoped>\n",
       "    .dataframe tbody tr th:only-of-type {\n",
       "        vertical-align: middle;\n",
       "    }\n",
       "\n",
       "    .dataframe tbody tr th {\n",
       "        vertical-align: top;\n",
       "    }\n",
       "\n",
       "    .dataframe thead th {\n",
       "        text-align: right;\n",
       "    }\n",
       "</style>\n",
       "<table border=\"1\" class=\"dataframe\">\n",
       "  <thead>\n",
       "    <tr style=\"text-align: right;\">\n",
       "      <th></th>\n",
       "      <th>Month</th>\n",
       "      <th>Region</th>\n",
       "      <th>Manager</th>\n",
       "      <th>Sales_before_digital_add(in $)</th>\n",
       "      <th>Sales_After_digital_add(in $)</th>\n",
       "    </tr>\n",
       "  </thead>\n",
       "  <tbody>\n",
       "    <tr>\n",
       "      <th>0</th>\n",
       "      <td>Month-1</td>\n",
       "      <td>Region - A</td>\n",
       "      <td>Manager - A</td>\n",
       "      <td>132921</td>\n",
       "      <td>270390</td>\n",
       "    </tr>\n",
       "    <tr>\n",
       "      <th>1</th>\n",
       "      <td>Month-2</td>\n",
       "      <td>Region - A</td>\n",
       "      <td>Manager - C</td>\n",
       "      <td>149559</td>\n",
       "      <td>223334</td>\n",
       "    </tr>\n",
       "    <tr>\n",
       "      <th>2</th>\n",
       "      <td>Month-3</td>\n",
       "      <td>Region - B</td>\n",
       "      <td>Manager - A</td>\n",
       "      <td>146278</td>\n",
       "      <td>244243</td>\n",
       "    </tr>\n",
       "    <tr>\n",
       "      <th>3</th>\n",
       "      <td>Month-4</td>\n",
       "      <td>Region - B</td>\n",
       "      <td>Manager - B</td>\n",
       "      <td>152167</td>\n",
       "      <td>231808</td>\n",
       "    </tr>\n",
       "    <tr>\n",
       "      <th>4</th>\n",
       "      <td>Month-5</td>\n",
       "      <td>Region - C</td>\n",
       "      <td>Manager - B</td>\n",
       "      <td>159525</td>\n",
       "      <td>258402</td>\n",
       "    </tr>\n",
       "  </tbody>\n",
       "</table>\n",
       "</div>"
      ],
      "text/plain": [
       "     Month      Region      Manager  Sales_before_digital_add(in $)  \\\n",
       "0  Month-1  Region - A  Manager - A                          132921   \n",
       "1  Month-2  Region - A  Manager - C                          149559   \n",
       "2  Month-3  Region - B  Manager - A                          146278   \n",
       "3  Month-4  Region - B  Manager - B                          152167   \n",
       "4  Month-5  Region - C  Manager - B                          159525   \n",
       "\n",
       "   Sales_After_digital_add(in $)  \n",
       "0                         270390  \n",
       "1                         223334  \n",
       "2                         244243  \n",
       "3                         231808  \n",
       "4                         258402  "
      ]
     },
     "execution_count": 3,
     "metadata": {},
     "output_type": "execute_result"
    }
   ],
   "source": [
    "# To check first 5 rows of Data frame\n",
    "data.head(5)"
   ]
  },
  {
   "cell_type": "code",
   "execution_count": 4,
   "id": "d18e3580",
   "metadata": {},
   "outputs": [
    {
     "data": {
      "text/plain": [
       "Month                             0\n",
       "Region                            0\n",
       "Manager                           0\n",
       "Sales_before_digital_add(in $)    0\n",
       "Sales_After_digital_add(in $)     0\n",
       "dtype: int64"
      ]
     },
     "execution_count": 4,
     "metadata": {},
     "output_type": "execute_result"
    }
   ],
   "source": [
    "# To check any null values present in the Data frame\n",
    "data.isna().sum()"
   ]
  },
  {
   "cell_type": "markdown",
   "id": "631ac520",
   "metadata": {},
   "source": [
    "No Null Values present in the data. We can continue with the same Data for calculations."
   ]
  },
  {
   "cell_type": "markdown",
   "id": "ef052096",
   "metadata": {},
   "source": [
    "# 1. The company wishes to clarify whether there is any increase in sales after stepping into digital marketing."
   ]
  },
  {
   "cell_type": "markdown",
   "id": "c0ea4077",
   "metadata": {},
   "source": [
    "We can use Hypothesis testing to check whether two groups are different from one another."
   ]
  },
  {
   "cell_type": "code",
   "execution_count": 5,
   "id": "2bb96d61",
   "metadata": {},
   "outputs": [],
   "source": [
    "sale_add = data[['Sales_before_digital_add(in $)','Sales_After_digital_add(in $)']]"
   ]
  },
  {
   "cell_type": "code",
   "execution_count": 6,
   "id": "7c1de8b0",
   "metadata": {},
   "outputs": [
    {
     "data": {
      "image/png": "[encoded data removed]",
      "text/plain": [
       "<Figure size 720x360 with 2 Axes>"
      ]
     },
     "metadata": {
      "needs_background": "light"
     },
     "output_type": "display_data"
    }
   ],
   "source": [
    "# Check the data using a histograms\n",
    "plt.figure(figsize = (10,5))   \n",
    "plt.subplot(1,2,1)\n",
    "plt.hist(sale_add['Sales_before_digital_add(in $)']) \n",
    "plt.title('Sales Before digital marketing',fontsize = 16)\n",
    "plt.xlabel('Sales (in $)')\n",
    "\n",
    "plt.subplot(1,2,2)\n",
    "plt.hist(sale_add['Sales_After_digital_add(in $)']) \n",
    "plt.title('Sales After digital marketing',fontsize = 16)\n",
    "plt.xlabel('Sales (in $)')\n",
    "\n",
    "plt.tight_layout()"
   ]
  },
  {
   "cell_type": "markdown",
   "id": "9667af85",
   "metadata": {},
   "source": [
    "The data seems to be normally distributed.\n",
    "Step 1. Define Hypothesis:\n",
    "\n",
    "Null hypothesis, H0: Sales Before digital marketing >= Sales After digital marketing\n",
    "Alternative hypothesis, Ha: Sales Before digital marketing < Sales After digital marketing\n",
    "\n",
    "Step 2. Set significance level(alpha value)"
   ]
  },
  {
   "cell_type": "code",
   "execution_count": 7,
   "id": "0a4f3d84",
   "metadata": {},
   "outputs": [],
   "source": [
    "alpha = 0.05"
   ]
  },
  {
   "cell_type": "markdown",
   "id": "0aeb2419",
   "metadata": {},
   "source": [
    "The level of significance in hypothesis testing indicates if a statistical result could have significance if the null hypothesis stands to be true.\n",
    "Step 3. Identify Test Statistic"
   ]
  },
  {
   "cell_type": "code",
   "execution_count": 8,
   "id": "7f8a83ca",
   "metadata": {},
   "outputs": [
    {
     "data": {
      "text/plain": [
       "22"
      ]
     },
     "execution_count": 8,
     "metadata": {},
     "output_type": "execute_result"
    }
   ],
   "source": [
    "data.shape[0]"
   ]
  },
  {
   "cell_type": "markdown",
   "id": "d43affcb",
   "metadata": {},
   "source": [
    "Here sample size is less than 30. So, we are going to use T-test.\n",
    "Step 4. Determine P-Value"
   ]
  },
  {
   "cell_type": "code",
   "execution_count": 9,
   "id": "2264afc6",
   "metadata": {},
   "outputs": [],
   "source": [
    "a = sale_add['Sales_before_digital_add(in $)']\n",
    "b = sale_add['Sales_After_digital_add(in $)']"
   ]
  },
  {
   "cell_type": "code",
   "execution_count": 10,
   "id": "5f740527",
   "metadata": {},
   "outputs": [
    {
     "name": "stdout",
     "output_type": "stream",
     "text": [
      "P-Value is: 3.168333502287889e-11\n"
     ]
    }
   ],
   "source": [
    "# Use scipy.stats.ttest_rel() function which Calculate the t-test on Two Related variables. \n",
    "t_score,p_value = stats.ttest_rel(b,a,alternative='greater') \n",
    "print('P-Value is:',p_value)"
   ]
  },
  {
   "cell_type": "markdown",
   "id": "cc5deaf7",
   "metadata": {},
   "source": [
    "Step 5. Comparing P-Value and Significance level"
   ]
  },
  {
   "cell_type": "code",
   "execution_count": 11,
   "id": "5f895fc6",
   "metadata": {},
   "outputs": [
    {
     "name": "stdout",
     "output_type": "stream",
     "text": [
      "Reject null hypothesis, that means, There is a increase in Sales after digital add\n"
     ]
    }
   ],
   "source": [
    "if p_value <= alpha:\n",
    "    print('Reject null hypothesis, that means, There is a increase in Sales after digital add')\n",
    "else:\n",
    "    print('Accept null hypothesis, that means, There is no increase in Sales after digital add')"
   ]
  },
  {
   "cell_type": "markdown",
   "id": "e1e43ae9",
   "metadata": {},
   "source": [
    "So, with the help of Hypothesis testing, we assume that there is a significant effect on the Sales after implementing digital advertisement."
   ]
  },
  {
   "cell_type": "markdown",
   "id": "d2bf57ca",
   "metadata": {},
   "source": [
    "# 2. The company needs to check whether there is any dependency between the features “Region” and “Manager”."
   ]
  },
  {
   "cell_type": "markdown",
   "id": "cb730f3d",
   "metadata": {},
   "source": [
    "We can use Hypothesis testing to determine whether two variables are likely to be related or not(any dependency)."
   ]
  },
  {
   "cell_type": "code",
   "execution_count": 12,
   "id": "88679a1e",
   "metadata": {},
   "outputs": [
    {
     "name": "stdout",
     "output_type": "stream",
     "text": [
      "Region:\n",
      " ['Region - A' 'Region - B' 'Region - C']\n",
      "\n",
      "Manager:\n",
      " ['Manager - A' 'Manager - C' 'Manager - B']\n"
     ]
    }
   ],
   "source": [
    "# Check the columns \n",
    "print('Region:\\n',data[\"Region\"].unique())\n",
    "print('\\nManager:\\n',data[\"Manager\"].unique())"
   ]
  },
  {
   "cell_type": "markdown",
   "id": "b5d976e1",
   "metadata": {},
   "source": [
    "We see that features “Region” and “Manager” are two categorical variables, so we can use the Chi-square test of independence to check the independence of variables.\n",
    "Step 1. Define Hypothesis:\n",
    "\n",
    "Null hypothesis, H0: There is no relationship between the features Region and Manager(or Independent)\n",
    "Alternative hypothesis, Ha: There is a relationship between the features Region and Manager(or Dependent)\n",
    "\n",
    "Step 2. Set significance level(alpha value)"
   ]
  },
  {
   "cell_type": "code",
   "execution_count": 13,
   "id": "6b400d60",
   "metadata": {},
   "outputs": [],
   "source": [
    "alpha = .05"
   ]
  },
  {
   "cell_type": "markdown",
   "id": "55228e6c",
   "metadata": {},
   "source": [
    "Step 3. Create a contigency table from the categorical data"
   ]
  },
  {
   "cell_type": "code",
   "execution_count": 14,
   "id": "a85faa94",
   "metadata": {},
   "outputs": [
    {
     "name": "stdout",
     "output_type": "stream",
     "text": [
      "Contingency Table :\n",
      " Manager     Manager - A  Manager - B  Manager - C\n",
      "Region                                           \n",
      "Region - A            4            3            3\n",
      "Region - B            4            1            2\n",
      "Region - C            1            3            1\n"
     ]
    }
   ],
   "source": [
    "contingency_table=pd.crosstab(data[\"Region\"],data[\"Manager\"])\n",
    "print('Contingency Table :\\n',contingency_table)"
   ]
  },
  {
   "cell_type": "code",
   "execution_count": 15,
   "id": "15657746",
   "metadata": {},
   "outputs": [],
   "source": [
    "# Take the values from the contingency table and define it as our observed data for calculation"
   ]
  },
  {
   "cell_type": "code",
   "execution_count": 16,
   "id": "b8630cad",
   "metadata": {},
   "outputs": [
    {
     "name": "stdout",
     "output_type": "stream",
     "text": [
      "Observed Values :\n",
      " [[4 3 3]\n",
      " [4 1 2]\n",
      " [1 3 1]]\n"
     ]
    }
   ],
   "source": [
    "Observed_Values = contingency_table.values \n",
    "print(\"Observed Values :\\n\",Observed_Values)"
   ]
  },
  {
   "cell_type": "markdown",
   "id": "59323933",
   "metadata": {},
   "source": [
    "Step 4. Determine P-Value"
   ]
  },
  {
   "cell_type": "code",
   "execution_count": 17,
   "id": "b3b7dc76",
   "metadata": {},
   "outputs": [],
   "source": [
    "# Use scipy.stats.chi2_contingency() function which computes Chi-square test of independence of variables in a contingency table"
   ]
  },
  {
   "cell_type": "code",
   "execution_count": null,
   "id": "6700a607",
   "metadata": {},
   "outputs": [],
   "source": [
    "stat, p, dof, expected = chi2_contingency(Observed_Values)\n",
    "print(\"P-Value is\",p)"
   ]
  },
  {
   "cell_type": "code",
   "execution_count": 21,
   "id": "819d314e",
   "metadata": {},
   "outputs": [],
   "source": [
    "# here i got an error....coundn't figure out why it happened so ...the supposed p value is 0.5493991051158094"
   ]
  },
  {
   "cell_type": "markdown",
   "id": "5319f18d",
   "metadata": {},
   "source": [
    "Step 5. Comparing P-Value and Significance level"
   ]
  },
  {
   "cell_type": "code",
   "execution_count": null,
   "id": "e7e39609",
   "metadata": {},
   "outputs": [],
   "source": [
    "if p <= alpha:\n",
    "    print('Dependent :Reject H0, There is a relationship between the features “Region” and “Manager”')\n",
    "else:\n",
    "    print('Independent :H0 holds true, There is no relationship between the features “Region” and “Manager”)')"
   ]
  },
  {
   "cell_type": "code",
   "execution_count": 23,
   "id": "c9060b51",
   "metadata": {},
   "outputs": [],
   "source": [
    "# Independent :H0 holds true, There is no relationship between the features “Region” and “Manager”).....this should have been its output "
   ]
  },
  {
   "cell_type": "markdown",
   "id": "afe1f71e",
   "metadata": {},
   "source": [
    "So, with the help of Chi-square test of independence, we assume that there is no dependency between Region and Manager."
   ]
  },
  {
   "cell_type": "code",
   "execution_count": null,
   "id": "8822a78e",
   "metadata": {},
   "outputs": [],
   "source": []
  }
 ],
 "metadata": {
  "kernelspec": {
   "display_name": "Python 3 (ipykernel)",
   "language": "python",
   "name": "python3"
  },
  "language_info": {
   "codemirror_mode": {
    "name": "ipython",
    "version": 3
   },
   "file_extension": ".py",
   "mimetype": "text/x-python",
   "name": "python",
   "nbconvert_exporter": "python",
   "pygments_lexer": "ipython3",
   "version": "3.9.7"
  }
 },
 "nbformat": 4,
 "nbformat_minor": 5
}
