{
 "cells": [
  {
   "cell_type": "markdown",
   "id": "6a8a3dcf",
   "metadata": {},
   "source": [
    "# Data Preprossesing"
   ]
  },
  {
   "cell_type": "code",
   "execution_count": 1,
   "id": "1bc95ff3",
   "metadata": {},
   "outputs": [],
   "source": [
    "# Importing the necessary libraries\n",
    "import numpy as np\n",
    "import pandas as pd\n",
    "import matplotlib.pyplot as plt\n",
    "import seaborn as sns"
   ]
  },
  {
   "cell_type": "markdown",
   "id": "7e8e0839",
   "metadata": {},
   "source": [
    "# 1. Load the dataset into python environment"
   ]
  },
  {
   "cell_type": "code",
   "execution_count": 2,
   "id": "7c1ea418",
   "metadata": {},
   "outputs": [],
   "source": [
    "# Read the data to Python environment\n",
    "data = pd.read_csv('titanic_dataset.csv')"
   ]
  },
  {
   "cell_type": "code",
   "execution_count": 3,
   "id": "38cda032",
   "metadata": {},
   "outputs": [
    {
     "data": {
      "text/html": [
       "<div>\n",
       "<style scoped>\n",
       "    .dataframe tbody tr th:only-of-type {\n",
       "        vertical-align: middle;\n",
       "    }\n",
       "\n",
       "    .dataframe tbody tr th {\n",
       "        vertical-align: top;\n",
       "    }\n",
       "\n",
       "    .dataframe thead th {\n",
       "        text-align: right;\n",
       "    }\n",
       "</style>\n",
       "<table border=\"1\" class=\"dataframe\">\n",
       "  <thead>\n",
       "    <tr style=\"text-align: right;\">\n",
       "      <th></th>\n",
       "      <th>PassengerId</th>\n",
       "      <th>Survived</th>\n",
       "      <th>Pclass</th>\n",
       "      <th>Name</th>\n",
       "      <th>Sex</th>\n",
       "      <th>Age</th>\n",
       "      <th>SibSp</th>\n",
       "      <th>Parch</th>\n",
       "      <th>Ticket</th>\n",
       "      <th>Fare</th>\n",
       "      <th>Cabin</th>\n",
       "      <th>Embarked</th>\n",
       "    </tr>\n",
       "  </thead>\n",
       "  <tbody>\n",
       "    <tr>\n",
       "      <th>828</th>\n",
       "      <td>829</td>\n",
       "      <td>1</td>\n",
       "      <td>3</td>\n",
       "      <td>McCormack, Mr. Thomas Joseph</td>\n",
       "      <td>male</td>\n",
       "      <td>NaN</td>\n",
       "      <td>0</td>\n",
       "      <td>0</td>\n",
       "      <td>367228</td>\n",
       "      <td>7.7500</td>\n",
       "      <td>NaN</td>\n",
       "      <td>Q</td>\n",
       "    </tr>\n",
       "    <tr>\n",
       "      <th>438</th>\n",
       "      <td>439</td>\n",
       "      <td>0</td>\n",
       "      <td>1</td>\n",
       "      <td>Fortune, Mr. Mark</td>\n",
       "      <td>male</td>\n",
       "      <td>64.0</td>\n",
       "      <td>1</td>\n",
       "      <td>4</td>\n",
       "      <td>19950</td>\n",
       "      <td>263.0000</td>\n",
       "      <td>C23 C25 C27</td>\n",
       "      <td>S</td>\n",
       "    </tr>\n",
       "    <tr>\n",
       "      <th>231</th>\n",
       "      <td>232</td>\n",
       "      <td>0</td>\n",
       "      <td>3</td>\n",
       "      <td>Larsson, Mr. Bengt Edvin</td>\n",
       "      <td>male</td>\n",
       "      <td>29.0</td>\n",
       "      <td>0</td>\n",
       "      <td>0</td>\n",
       "      <td>347067</td>\n",
       "      <td>7.7750</td>\n",
       "      <td>NaN</td>\n",
       "      <td>S</td>\n",
       "    </tr>\n",
       "    <tr>\n",
       "      <th>534</th>\n",
       "      <td>535</td>\n",
       "      <td>0</td>\n",
       "      <td>3</td>\n",
       "      <td>Cacic, Miss. Marija</td>\n",
       "      <td>female</td>\n",
       "      <td>30.0</td>\n",
       "      <td>0</td>\n",
       "      <td>0</td>\n",
       "      <td>315084</td>\n",
       "      <td>8.6625</td>\n",
       "      <td>NaN</td>\n",
       "      <td>S</td>\n",
       "    </tr>\n",
       "    <tr>\n",
       "      <th>531</th>\n",
       "      <td>532</td>\n",
       "      <td>0</td>\n",
       "      <td>3</td>\n",
       "      <td>Toufik, Mr. Nakli</td>\n",
       "      <td>male</td>\n",
       "      <td>NaN</td>\n",
       "      <td>0</td>\n",
       "      <td>0</td>\n",
       "      <td>2641</td>\n",
       "      <td>7.2292</td>\n",
       "      <td>NaN</td>\n",
       "      <td>C</td>\n",
       "    </tr>\n",
       "  </tbody>\n",
       "</table>\n",
       "</div>"
      ],
      "text/plain": [
       "     PassengerId  Survived  Pclass                          Name     Sex  \\\n",
       "828          829         1       3  McCormack, Mr. Thomas Joseph    male   \n",
       "438          439         0       1             Fortune, Mr. Mark    male   \n",
       "231          232         0       3      Larsson, Mr. Bengt Edvin    male   \n",
       "534          535         0       3           Cacic, Miss. Marija  female   \n",
       "531          532         0       3             Toufik, Mr. Nakli    male   \n",
       "\n",
       "      Age  SibSp  Parch  Ticket      Fare        Cabin Embarked  \n",
       "828   NaN      0      0  367228    7.7500          NaN        Q  \n",
       "438  64.0      1      4   19950  263.0000  C23 C25 C27        S  \n",
       "231  29.0      0      0  347067    7.7750          NaN        S  \n",
       "534  30.0      0      0  315084    8.6625          NaN        S  \n",
       "531   NaN      0      0    2641    7.2292          NaN        C  "
      ]
     },
     "execution_count": 3,
     "metadata": {},
     "output_type": "execute_result"
    }
   ],
   "source": [
    "# Displaying five random rows\n",
    "data.sample(5)"
   ]
  },
  {
   "cell_type": "markdown",
   "id": "2ff79461",
   "metadata": {},
   "source": [
    "# 2. Make ‘PassengerId’ as the index column"
   ]
  },
  {
   "cell_type": "code",
   "execution_count": 4,
   "id": "3e3c0831",
   "metadata": {},
   "outputs": [
    {
     "data": {
      "text/plain": [
       "(891, 12)"
      ]
     },
     "execution_count": 4,
     "metadata": {},
     "output_type": "execute_result"
    }
   ],
   "source": [
    "data.shape"
   ]
  },
  {
   "cell_type": "code",
   "execution_count": 6,
   "id": "fba5c301",
   "metadata": {},
   "outputs": [
    {
     "data": {
      "text/plain": [
       "891"
      ]
     },
     "execution_count": 6,
     "metadata": {},
     "output_type": "execute_result"
    }
   ],
   "source": [
    "data['PassengerId'].nunique()"
   ]
  },
  {
   "cell_type": "code",
   "execution_count": 7,
   "id": "61afb285",
   "metadata": {},
   "outputs": [],
   "source": [
    "# PassengerId column contains 891 unique values which is equal to data set raw size. \n",
    "# So, changing the column, PassengerId into index, since it contains only the unique PassengerIds."
   ]
  },
  {
   "cell_type": "code",
   "execution_count": 8,
   "id": "219d6135",
   "metadata": {},
   "outputs": [
    {
     "data": {
      "text/html": [
       "<div>\n",
       "<style scoped>\n",
       "    .dataframe tbody tr th:only-of-type {\n",
       "        vertical-align: middle;\n",
       "    }\n",
       "\n",
       "    .dataframe tbody tr th {\n",
       "        vertical-align: top;\n",
       "    }\n",
       "\n",
       "    .dataframe thead th {\n",
       "        text-align: right;\n",
       "    }\n",
       "</style>\n",
       "<table border=\"1\" class=\"dataframe\">\n",
       "  <thead>\n",
       "    <tr style=\"text-align: right;\">\n",
       "      <th></th>\n",
       "      <th>Survived</th>\n",
       "      <th>Pclass</th>\n",
       "      <th>Name</th>\n",
       "      <th>Sex</th>\n",
       "      <th>Age</th>\n",
       "      <th>SibSp</th>\n",
       "      <th>Parch</th>\n",
       "      <th>Ticket</th>\n",
       "      <th>Fare</th>\n",
       "      <th>Cabin</th>\n",
       "      <th>Embarked</th>\n",
       "    </tr>\n",
       "    <tr>\n",
       "      <th>PassengerId</th>\n",
       "      <th></th>\n",
       "      <th></th>\n",
       "      <th></th>\n",
       "      <th></th>\n",
       "      <th></th>\n",
       "      <th></th>\n",
       "      <th></th>\n",
       "      <th></th>\n",
       "      <th></th>\n",
       "      <th></th>\n",
       "      <th></th>\n",
       "    </tr>\n",
       "  </thead>\n",
       "  <tbody>\n",
       "    <tr>\n",
       "      <th>1</th>\n",
       "      <td>0</td>\n",
       "      <td>3</td>\n",
       "      <td>Braund, Mr. Owen Harris</td>\n",
       "      <td>male</td>\n",
       "      <td>22.0</td>\n",
       "      <td>1</td>\n",
       "      <td>0</td>\n",
       "      <td>A/5 21171</td>\n",
       "      <td>7.2500</td>\n",
       "      <td>NaN</td>\n",
       "      <td>S</td>\n",
       "    </tr>\n",
       "    <tr>\n",
       "      <th>2</th>\n",
       "      <td>1</td>\n",
       "      <td>1</td>\n",
       "      <td>Cumings, Mrs. John Bradley (Florence Briggs Th...</td>\n",
       "      <td>female</td>\n",
       "      <td>38.0</td>\n",
       "      <td>1</td>\n",
       "      <td>0</td>\n",
       "      <td>PC 17599</td>\n",
       "      <td>71.2833</td>\n",
       "      <td>C85</td>\n",
       "      <td>C</td>\n",
       "    </tr>\n",
       "    <tr>\n",
       "      <th>3</th>\n",
       "      <td>1</td>\n",
       "      <td>3</td>\n",
       "      <td>Heikkinen, Miss. Laina</td>\n",
       "      <td>female</td>\n",
       "      <td>26.0</td>\n",
       "      <td>0</td>\n",
       "      <td>0</td>\n",
       "      <td>STON/O2. 3101282</td>\n",
       "      <td>7.9250</td>\n",
       "      <td>NaN</td>\n",
       "      <td>S</td>\n",
       "    </tr>\n",
       "    <tr>\n",
       "      <th>4</th>\n",
       "      <td>1</td>\n",
       "      <td>1</td>\n",
       "      <td>Futrelle, Mrs. Jacques Heath (Lily May Peel)</td>\n",
       "      <td>female</td>\n",
       "      <td>35.0</td>\n",
       "      <td>1</td>\n",
       "      <td>0</td>\n",
       "      <td>113803</td>\n",
       "      <td>53.1000</td>\n",
       "      <td>C123</td>\n",
       "      <td>S</td>\n",
       "    </tr>\n",
       "    <tr>\n",
       "      <th>5</th>\n",
       "      <td>0</td>\n",
       "      <td>3</td>\n",
       "      <td>Allen, Mr. William Henry</td>\n",
       "      <td>male</td>\n",
       "      <td>35.0</td>\n",
       "      <td>0</td>\n",
       "      <td>0</td>\n",
       "      <td>373450</td>\n",
       "      <td>8.0500</td>\n",
       "      <td>NaN</td>\n",
       "      <td>S</td>\n",
       "    </tr>\n",
       "  </tbody>\n",
       "</table>\n",
       "</div>"
      ],
      "text/plain": [
       "             Survived  Pclass  \\\n",
       "PassengerId                     \n",
       "1                   0       3   \n",
       "2                   1       1   \n",
       "3                   1       3   \n",
       "4                   1       1   \n",
       "5                   0       3   \n",
       "\n",
       "                                                          Name     Sex   Age  \\\n",
       "PassengerId                                                                    \n",
       "1                                      Braund, Mr. Owen Harris    male  22.0   \n",
       "2            Cumings, Mrs. John Bradley (Florence Briggs Th...  female  38.0   \n",
       "3                                       Heikkinen, Miss. Laina  female  26.0   \n",
       "4                 Futrelle, Mrs. Jacques Heath (Lily May Peel)  female  35.0   \n",
       "5                                     Allen, Mr. William Henry    male  35.0   \n",
       "\n",
       "             SibSp  Parch            Ticket     Fare Cabin Embarked  \n",
       "PassengerId                                                          \n",
       "1                1      0         A/5 21171   7.2500   NaN        S  \n",
       "2                1      0          PC 17599  71.2833   C85        C  \n",
       "3                0      0  STON/O2. 3101282   7.9250   NaN        S  \n",
       "4                1      0            113803  53.1000  C123        S  \n",
       "5                0      0            373450   8.0500   NaN        S  "
      ]
     },
     "execution_count": 8,
     "metadata": {},
     "output_type": "execute_result"
    }
   ],
   "source": [
    "data = data.set_index('PassengerId')\n",
    "data.head()"
   ]
  },
  {
   "cell_type": "markdown",
   "id": "0881e1a2",
   "metadata": {},
   "source": [
    "# 3. Check the basic details of the dataset"
   ]
  },
  {
   "cell_type": "code",
   "execution_count": 9,
   "id": "072acc7f",
   "metadata": {},
   "outputs": [
    {
     "name": "stdout",
     "output_type": "stream",
     "text": [
      "<class 'pandas.core.frame.DataFrame'>\n",
      "Int64Index: 891 entries, 1 to 891\n",
      "Data columns (total 11 columns):\n",
      " #   Column    Non-Null Count  Dtype  \n",
      "---  ------    --------------  -----  \n",
      " 0   Survived  891 non-null    int64  \n",
      " 1   Pclass    891 non-null    int64  \n",
      " 2   Name      891 non-null    object \n",
      " 3   Sex       891 non-null    object \n",
      " 4   Age       714 non-null    float64\n",
      " 5   SibSp     891 non-null    int64  \n",
      " 6   Parch     891 non-null    int64  \n",
      " 7   Ticket    891 non-null    object \n",
      " 8   Fare      891 non-null    float64\n",
      " 9   Cabin     204 non-null    object \n",
      " 10  Embarked  889 non-null    object \n",
      "dtypes: float64(2), int64(4), object(5)\n",
      "memory usage: 83.5+ KB\n"
     ]
    }
   ],
   "source": [
    "# Getting concise summary of the dataset\n",
    "data.info()"
   ]
  },
  {
   "cell_type": "code",
   "execution_count": 10,
   "id": "a47a1ff2",
   "metadata": {},
   "outputs": [
    {
     "data": {
      "text/html": [
       "<div>\n",
       "<style scoped>\n",
       "    .dataframe tbody tr th:only-of-type {\n",
       "        vertical-align: middle;\n",
       "    }\n",
       "\n",
       "    .dataframe tbody tr th {\n",
       "        vertical-align: top;\n",
       "    }\n",
       "\n",
       "    .dataframe thead th {\n",
       "        text-align: right;\n",
       "    }\n",
       "</style>\n",
       "<table border=\"1\" class=\"dataframe\">\n",
       "  <thead>\n",
       "    <tr style=\"text-align: right;\">\n",
       "      <th></th>\n",
       "      <th>Survived</th>\n",
       "      <th>Pclass</th>\n",
       "      <th>Age</th>\n",
       "      <th>SibSp</th>\n",
       "      <th>Parch</th>\n",
       "      <th>Fare</th>\n",
       "    </tr>\n",
       "  </thead>\n",
       "  <tbody>\n",
       "    <tr>\n",
       "      <th>count</th>\n",
       "      <td>891.000000</td>\n",
       "      <td>891.000000</td>\n",
       "      <td>714.000000</td>\n",
       "      <td>891.000000</td>\n",
       "      <td>891.000000</td>\n",
       "      <td>891.000000</td>\n",
       "    </tr>\n",
       "    <tr>\n",
       "      <th>mean</th>\n",
       "      <td>0.383838</td>\n",
       "      <td>2.308642</td>\n",
       "      <td>29.699118</td>\n",
       "      <td>0.523008</td>\n",
       "      <td>0.381594</td>\n",
       "      <td>32.204208</td>\n",
       "    </tr>\n",
       "    <tr>\n",
       "      <th>std</th>\n",
       "      <td>0.486592</td>\n",
       "      <td>0.836071</td>\n",
       "      <td>14.526497</td>\n",
       "      <td>1.102743</td>\n",
       "      <td>0.806057</td>\n",
       "      <td>49.693429</td>\n",
       "    </tr>\n",
       "    <tr>\n",
       "      <th>min</th>\n",
       "      <td>0.000000</td>\n",
       "      <td>1.000000</td>\n",
       "      <td>0.420000</td>\n",
       "      <td>0.000000</td>\n",
       "      <td>0.000000</td>\n",
       "      <td>0.000000</td>\n",
       "    </tr>\n",
       "    <tr>\n",
       "      <th>25%</th>\n",
       "      <td>0.000000</td>\n",
       "      <td>2.000000</td>\n",
       "      <td>20.125000</td>\n",
       "      <td>0.000000</td>\n",
       "      <td>0.000000</td>\n",
       "      <td>7.910400</td>\n",
       "    </tr>\n",
       "    <tr>\n",
       "      <th>50%</th>\n",
       "      <td>0.000000</td>\n",
       "      <td>3.000000</td>\n",
       "      <td>28.000000</td>\n",
       "      <td>0.000000</td>\n",
       "      <td>0.000000</td>\n",
       "      <td>14.454200</td>\n",
       "    </tr>\n",
       "    <tr>\n",
       "      <th>75%</th>\n",
       "      <td>1.000000</td>\n",
       "      <td>3.000000</td>\n",
       "      <td>38.000000</td>\n",
       "      <td>1.000000</td>\n",
       "      <td>0.000000</td>\n",
       "      <td>31.000000</td>\n",
       "    </tr>\n",
       "    <tr>\n",
       "      <th>max</th>\n",
       "      <td>1.000000</td>\n",
       "      <td>3.000000</td>\n",
       "      <td>80.000000</td>\n",
       "      <td>8.000000</td>\n",
       "      <td>6.000000</td>\n",
       "      <td>512.329200</td>\n",
       "    </tr>\n",
       "  </tbody>\n",
       "</table>\n",
       "</div>"
      ],
      "text/plain": [
       "         Survived      Pclass         Age       SibSp       Parch        Fare\n",
       "count  891.000000  891.000000  714.000000  891.000000  891.000000  891.000000\n",
       "mean     0.383838    2.308642   29.699118    0.523008    0.381594   32.204208\n",
       "std      0.486592    0.836071   14.526497    1.102743    0.806057   49.693429\n",
       "min      0.000000    1.000000    0.420000    0.000000    0.000000    0.000000\n",
       "25%      0.000000    2.000000   20.125000    0.000000    0.000000    7.910400\n",
       "50%      0.000000    3.000000   28.000000    0.000000    0.000000   14.454200\n",
       "75%      1.000000    3.000000   38.000000    1.000000    0.000000   31.000000\n",
       "max      1.000000    3.000000   80.000000    8.000000    6.000000  512.329200"
      ]
     },
     "execution_count": 10,
     "metadata": {},
     "output_type": "execute_result"
    }
   ],
   "source": [
    "# Displaying the statistical summary of the dataset.\n",
    "data.describe()"
   ]
  },
  {
   "cell_type": "markdown",
   "id": "e3aff88a",
   "metadata": {},
   "source": [
    "From the above table we can find the Total count, Mean, Standard Deviation, Min & Max value and percentile of each column."
   ]
  },
  {
   "cell_type": "code",
   "execution_count": 11,
   "id": "0a5411d3",
   "metadata": {},
   "outputs": [
    {
     "data": {
      "text/html": [
       "<div>\n",
       "<style scoped>\n",
       "    .dataframe tbody tr th:only-of-type {\n",
       "        vertical-align: middle;\n",
       "    }\n",
       "\n",
       "    .dataframe tbody tr th {\n",
       "        vertical-align: top;\n",
       "    }\n",
       "\n",
       "    .dataframe thead th {\n",
       "        text-align: right;\n",
       "    }\n",
       "</style>\n",
       "<table border=\"1\" class=\"dataframe\">\n",
       "  <thead>\n",
       "    <tr style=\"text-align: right;\">\n",
       "      <th></th>\n",
       "      <th>Name</th>\n",
       "      <th>Sex</th>\n",
       "      <th>Ticket</th>\n",
       "      <th>Cabin</th>\n",
       "      <th>Embarked</th>\n",
       "    </tr>\n",
       "  </thead>\n",
       "  <tbody>\n",
       "    <tr>\n",
       "      <th>count</th>\n",
       "      <td>891</td>\n",
       "      <td>891</td>\n",
       "      <td>891</td>\n",
       "      <td>204</td>\n",
       "      <td>889</td>\n",
       "    </tr>\n",
       "    <tr>\n",
       "      <th>unique</th>\n",
       "      <td>891</td>\n",
       "      <td>2</td>\n",
       "      <td>681</td>\n",
       "      <td>147</td>\n",
       "      <td>3</td>\n",
       "    </tr>\n",
       "    <tr>\n",
       "      <th>top</th>\n",
       "      <td>Braund, Mr. Owen Harris</td>\n",
       "      <td>male</td>\n",
       "      <td>347082</td>\n",
       "      <td>B96 B98</td>\n",
       "      <td>S</td>\n",
       "    </tr>\n",
       "    <tr>\n",
       "      <th>freq</th>\n",
       "      <td>1</td>\n",
       "      <td>577</td>\n",
       "      <td>7</td>\n",
       "      <td>4</td>\n",
       "      <td>644</td>\n",
       "    </tr>\n",
       "  </tbody>\n",
       "</table>\n",
       "</div>"
      ],
      "text/plain": [
       "                           Name   Sex  Ticket    Cabin Embarked\n",
       "count                       891   891     891      204      889\n",
       "unique                      891     2     681      147        3\n",
       "top     Braund, Mr. Owen Harris  male  347082  B96 B98        S\n",
       "freq                          1   577       7        4      644"
      ]
     },
     "execution_count": 11,
     "metadata": {},
     "output_type": "execute_result"
    }
   ],
   "source": [
    "# Displaying the statistical summary of the categorical columns in dataset.\n",
    "data.describe(include = object)"
   ]
  },
  {
   "cell_type": "markdown",
   "id": "88551345",
   "metadata": {},
   "source": [
    "The 'top' is the most common value and 'freq' is the most common value’s frequency.\n",
    "Data description:\n",
    "\n",
    "Survival - Survival (0 = No; 1 = Yes). Not included in test.csv file.\n",
    "Pclass - Passenger Class (1 = 1st; 2 = 2nd; 3 = 3rd)\n",
    "Name - Name\n",
    "Sex - Sex\n",
    "Age - Age\n",
    "Sibsp - Number of Siblings/Spouses Aboard\n",
    "Parch - Number of Parents/Children Aboard\n",
    "Ticket - Ticket Number\n",
    "Fare - Passenger Fare\n",
    "Cabin - Cabin\n",
    "Embarked - Port of Embarkation (C = Cherbourg; Q = Queenstown; S = Southampton)"
   ]
  },
  {
   "cell_type": "markdown",
   "id": "32811d66",
   "metadata": {},
   "source": [
    "# 4. Fill in all the missing values present in all the columns in the dataset"
   ]
  },
  {
   "cell_type": "code",
   "execution_count": 13,
   "id": "8477dc45",
   "metadata": {},
   "outputs": [
    {
     "data": {
      "text/plain": [
       "Survived      0\n",
       "Pclass        0\n",
       "Name          0\n",
       "Sex           0\n",
       "Age         177\n",
       "SibSp         0\n",
       "Parch         0\n",
       "Ticket        0\n",
       "Fare          0\n",
       "Cabin       687\n",
       "Embarked      2\n",
       "dtype: int64"
      ]
     },
     "execution_count": 13,
     "metadata": {},
     "output_type": "execute_result"
    }
   ],
   "source": [
    "# Checking for Null values in the data\n",
    "data.isna().sum()"
   ]
  },
  {
   "cell_type": "code",
   "execution_count": 14,
   "id": "8253dc90",
   "metadata": {},
   "outputs": [
    {
     "data": {
      "image/png": "[encoded data removed]",
      "text/plain": [
       "<Figure size 432x288 with 1 Axes>"
      ]
     },
     "metadata": {
      "needs_background": "light"
     },
     "output_type": "display_data"
    }
   ],
   "source": [
    "# Handling the missing values in Age column\n",
    "plt.hist('Age',data = data)\n",
    "plt.show()"
   ]
  },
  {
   "cell_type": "code",
   "execution_count": 15,
   "id": "5bc71954",
   "metadata": {},
   "outputs": [],
   "source": [
    "# We see that the data is not normally distributed, it skewed to right.\n",
    "# So, we fill the missing values with median using fillna() method\n",
    "data['Age'] = data['Age'].fillna(data['Age'].median())"
   ]
  },
  {
   "cell_type": "code",
   "execution_count": 16,
   "id": "93a66101",
   "metadata": {},
   "outputs": [],
   "source": [
    "# Handling the missing values in Cabin column"
   ]
  },
  {
   "cell_type": "markdown",
   "id": "29cf1566",
   "metadata": {},
   "source": [
    "The 'Cabin' column has got 687 missing values and the total count of raw is 891. Hence, we can see 'Cabin' column got around 77% missing value.\n",
    "Since, Cabin column is having a high no.of missing values. It's better not to consider it for further calculations"
   ]
  },
  {
   "cell_type": "code",
   "execution_count": 18,
   "id": "90654997",
   "metadata": {},
   "outputs": [],
   "source": [
    "# Removing the Cabin column from the data set.\n",
    "data = data.drop('Cabin',axis = 1)"
   ]
  },
  {
   "cell_type": "code",
   "execution_count": 19,
   "id": "b37eb7f1",
   "metadata": {},
   "outputs": [
    {
     "data": {
      "text/plain": [
       "array(['S', 'C', 'Q', nan], dtype=object)"
      ]
     },
     "execution_count": 19,
     "metadata": {},
     "output_type": "execute_result"
    }
   ],
   "source": [
    "# Handling the missing values in Embarked column\n",
    "data['Embarked'].unique()"
   ]
  },
  {
   "cell_type": "code",
   "execution_count": 20,
   "id": "90a787b2",
   "metadata": {},
   "outputs": [
    {
     "data": {
      "text/plain": [
       "0    S\n",
       "dtype: object"
      ]
     },
     "execution_count": 20,
     "metadata": {},
     "output_type": "execute_result"
    }
   ],
   "source": [
    "# Finding the mode of Cabin column\n",
    "data['Embarked'].mode()"
   ]
  },
  {
   "cell_type": "code",
   "execution_count": 21,
   "id": "fa20e57e",
   "metadata": {},
   "outputs": [],
   "source": [
    "# Only one mode for the Embarked column, so we replace the missing values with this mode.\n",
    "data['Embarked'] = data['Embarked'].fillna(data['Embarked'].mode()[0])"
   ]
  },
  {
   "cell_type": "code",
   "execution_count": 22,
   "id": "b2c2f820",
   "metadata": {},
   "outputs": [
    {
     "data": {
      "text/plain": [
       "Survived    0\n",
       "Pclass      0\n",
       "Name        0\n",
       "Sex         0\n",
       "Age         0\n",
       "SibSp       0\n",
       "Parch       0\n",
       "Ticket      0\n",
       "Fare        0\n",
       "Embarked    0\n",
       "dtype: int64"
      ]
     },
     "execution_count": 22,
     "metadata": {},
     "output_type": "execute_result"
    }
   ],
   "source": [
    "# Re- Checking for Null values in the data\n",
    "data.isna().sum()"
   ]
  },
  {
   "cell_type": "markdown",
   "id": "01e0ff8b",
   "metadata": {},
   "source": [
    "We successfully handled all the missing values present in the data set. No null values present in the data set."
   ]
  },
  {
   "cell_type": "markdown",
   "id": "d414a5c4",
   "metadata": {},
   "source": [
    "# 5. Check and handle outliers in at least 3 columns in the dataset"
   ]
  },
  {
   "cell_type": "code",
   "execution_count": 24,
   "id": "644c4e59",
   "metadata": {},
   "outputs": [
    {
     "data": {
      "text/plain": [
       "Survived      int64\n",
       "Pclass        int64\n",
       "Name         object\n",
       "Sex          object\n",
       "Age         float64\n",
       "SibSp         int64\n",
       "Parch         int64\n",
       "Ticket       object\n",
       "Fare        float64\n",
       "Embarked     object\n",
       "dtype: object"
      ]
     },
     "execution_count": 24,
     "metadata": {},
     "output_type": "execute_result"
    }
   ],
   "source": [
    "data.dtypes"
   ]
  },
  {
   "cell_type": "code",
   "execution_count": 25,
   "id": "c1c04468",
   "metadata": {},
   "outputs": [],
   "source": [
    "# We now plot box plots for all the numerical columns to find outliers, if any."
   ]
  },
  {
   "cell_type": "code",
   "execution_count": 26,
   "id": "96074e2b",
   "metadata": {},
   "outputs": [
    {
     "data": {
      "image/png": "[encoded data removed]",
      "text/plain": [
       "<Figure size 1296x576 with 6 Axes>"
      ]
     },
     "metadata": {
      "needs_background": "light"
     },
     "output_type": "display_data"
    }
   ],
   "source": [
    "plt.figure(figsize = (18,8))\n",
    "\n",
    "plt.subplot(2,3,1)\n",
    "plt.boxplot(data['Survived'])\n",
    "plt.title('Box plot of Survived')\n",
    "\n",
    "\n",
    "plt.subplot(2,3,2)\n",
    "plt.boxplot(data['Pclass'])\n",
    "plt.title('Box plot of Pclass')\n",
    "\n",
    "plt.subplot(2,3,3)\n",
    "plt.boxplot(data['Age'])\n",
    "plt.title('Box plot of Age')\n",
    "\n",
    "\n",
    "plt.subplot(2,3,4)\n",
    "plt.boxplot(data['SibSp'])\n",
    "plt.title('Box plot of SibSp')\n",
    "\n",
    "plt.subplot(2,3,5)\n",
    "plt.boxplot(data['Parch'])\n",
    "plt.title('Box plot of Parch')\n",
    "\n",
    "plt.subplot(2,3,6)\n",
    "plt.boxplot(data['Fare'])\n",
    "plt.title('Box plot of Fare')\n",
    "\n",
    "plt.tight_layout()\n",
    "plt.show()"
   ]
  },
  {
   "cell_type": "markdown",
   "id": "b39498ee",
   "metadata": {},
   "source": [
    "We can see that there are some outliers in Age, SibSp, Parch and Fare columns.\n",
    "There are different ways to handle the outlier:\n",
    "\n",
    "We may delete outlier values if it is due to data entry error.\n",
    "We may impute outlier using mean, median, or zero and thus there is no loss of data.\n",
    "Quantile based flooring and capping.\n",
    "Another option is treating the outlier separately in the statistical model. So, we treat them in separate groups (with outlier, deleting outlier, impute outlier) and build individual model for each group and then check the output and find out what is the best way to handle the outlier."
   ]
  },
  {
   "cell_type": "code",
   "execution_count": 27,
   "id": "883b106b",
   "metadata": {},
   "outputs": [],
   "source": [
    "# 1. Checking the outliers in Age column"
   ]
  },
  {
   "cell_type": "code",
   "execution_count": 28,
   "id": "4f8fbbc0",
   "metadata": {},
   "outputs": [
    {
     "data": {
      "text/plain": [
       "count    891.000000\n",
       "mean      29.361582\n",
       "std       13.019697\n",
       "min        0.420000\n",
       "25%       22.000000\n",
       "50%       28.000000\n",
       "75%       35.000000\n",
       "max       80.000000\n",
       "Name: Age, dtype: float64"
      ]
     },
     "execution_count": 28,
     "metadata": {},
     "output_type": "execute_result"
    }
   ],
   "source": [
    "# Checking the statistical summary of the Age column\n",
    "data['Age'].describe()"
   ]
  },
  {
   "cell_type": "markdown",
   "id": "3d4d169b",
   "metadata": {},
   "source": [
    "We can conclude that there is no data entry error, because the Age minimum and maximum range between 0 to 80. So, we don't need to delete any outlier value.\n",
    "However, in order to reduce the spread of data, we may impute the outliers with the help of Inter Quartile Range (IQR)."
   ]
  },
  {
   "cell_type": "code",
   "execution_count": 30,
   "id": "46976b83",
   "metadata": {},
   "outputs": [],
   "source": [
    "# Handling the outlier with the help of Inter Quartile Range(IQR)"
   ]
  },
  {
   "cell_type": "code",
   "execution_count": 31,
   "id": "c37e2f02",
   "metadata": {},
   "outputs": [],
   "source": [
    "# Finding the respective value for the percentiles at 25, 50 and 75.\n",
    "Q1 = np.percentile(data['Age'], 25, interpolation = 'midpoint')\n",
    "Q2 = np.percentile(data['Age'], 50, interpolation = 'midpoint')\n",
    "Q3 = np.percentile(data['Age'], 75, interpolation = 'midpoint')"
   ]
  },
  {
   "cell_type": "code",
   "execution_count": 32,
   "id": "43d207d4",
   "metadata": {},
   "outputs": [],
   "source": [
    "# Calculating the IQR\n",
    "IQR = Q3 - Q1"
   ]
  },
  {
   "cell_type": "code",
   "execution_count": 33,
   "id": "d676ae3b",
   "metadata": {},
   "outputs": [],
   "source": [
    "# Finding the lower and upper limit\n",
    "low_limit = Q1 - 1.5 * IQR\n",
    "upp_limit = Q3 + 1.5 * IQR"
   ]
  },
  {
   "cell_type": "code",
   "execution_count": 34,
   "id": "839258ed",
   "metadata": {},
   "outputs": [
    {
     "name": "stdout",
     "output_type": "stream",
     "text": [
      "The no.of outliers present in the Age column: 66\n"
     ]
    }
   ],
   "source": [
    "# Now we will find out the outliers by considering that all values below lower and all values above upper limit as outliers.\n",
    "\n",
    "outlier = []\n",
    "for i in data['Age']:\n",
    "    if ((i < low_limit) or ( i > upp_limit )):\n",
    "        outlier.append(i)\n",
    "\n",
    "print('The no.of outliers present in the Age column:',len(outlier))"
   ]
  },
  {
   "cell_type": "code",
   "execution_count": 36,
   "id": "936cdf59",
   "metadata": {},
   "outputs": [],
   "source": [
    "# Since we don't consider it as data entry errors, we will not delete these outliers. \n",
    "# We will impute the outliers with median value of Age column because median is not affected by the outliers."
   ]
  },
  {
   "cell_type": "code",
   "execution_count": 37,
   "id": "a9918681",
   "metadata": {},
   "outputs": [],
   "source": [
    "age_median = data['Age'].median() \n",
    "data['Age'] = np.where(data['Age'] > upp_limit , age_median , np.where(data['Age'] < low_limit, age_median, data['Age']))"
   ]
  },
  {
   "cell_type": "code",
   "execution_count": 38,
   "id": "c3ef6d57",
   "metadata": {},
   "outputs": [
    {
     "data": {
      "image/png": "[encoded data removed]",
      "text/plain": [
       "<Figure size 432x288 with 1 Axes>"
      ]
     },
     "metadata": {
      "needs_background": "light"
     },
     "output_type": "display_data"
    }
   ],
   "source": [
    "# Re-Checking the Age column after handling the outliers\n",
    "plt.boxplot(data['Age'])\n",
    "plt.title('Box plot of Age after handling Outliers')\n",
    "plt.show()"
   ]
  },
  {
   "cell_type": "code",
   "execution_count": 39,
   "id": "de8e7793",
   "metadata": {},
   "outputs": [
    {
     "data": {
      "text/plain": [
       "count    891.000000\n",
       "mean      28.476992\n",
       "std        9.793559\n",
       "min        3.000000\n",
       "25%       23.750000\n",
       "50%       28.000000\n",
       "75%       33.000000\n",
       "max       54.000000\n",
       "Name: Age, dtype: float64"
      ]
     },
     "execution_count": 39,
     "metadata": {},
     "output_type": "execute_result"
    }
   ],
   "source": [
    "data['Age'].describe()"
   ]
  },
  {
   "cell_type": "markdown",
   "id": "b41af3fc",
   "metadata": {},
   "source": [
    "We see there is a significant drop in the outliers, because the mean and median are now really close and the standard deviation reduced."
   ]
  },
  {
   "cell_type": "code",
   "execution_count": 41,
   "id": "ceb4fea8",
   "metadata": {},
   "outputs": [],
   "source": [
    "# 2. Checking the outliers in Fare column"
   ]
  },
  {
   "cell_type": "code",
   "execution_count": 42,
   "id": "476524f0",
   "metadata": {},
   "outputs": [
    {
     "data": {
      "text/plain": [
       "count    891.000000\n",
       "mean      32.204208\n",
       "std       49.693429\n",
       "min        0.000000\n",
       "25%        7.910400\n",
       "50%       14.454200\n",
       "75%       31.000000\n",
       "max      512.329200\n",
       "Name: Fare, dtype: float64"
      ]
     },
     "execution_count": 42,
     "metadata": {},
     "output_type": "execute_result"
    }
   ],
   "source": [
    "# Checking the statistical summary of the Fare column\n",
    "data['Fare'].describe()"
   ]
  },
  {
   "cell_type": "code",
   "execution_count": 43,
   "id": "5cfad2bd",
   "metadata": {},
   "outputs": [
    {
     "name": "stdout",
     "output_type": "stream",
     "text": [
      "The no.of outliers present in the Fare column: 116\n"
     ]
    }
   ],
   "source": [
    "# Handling the outlier with the help of Inter Quartile Range (IQR)\n",
    "\n",
    "# Finding the respective value for the percentiles at 25, 50 and 75.\n",
    "Q1 = np.percentile(data['Fare'], 25, interpolation = 'midpoint')\n",
    "Q2 = np.percentile(data['Fare'], 50, interpolation = 'midpoint')\n",
    "Q3 = np.percentile(data['Fare'], 75, interpolation = 'midpoint')\n",
    "\n",
    "# Calculte the IQR\n",
    "IQR = Q3 - Q1\n",
    "\n",
    "# Finding the lower and upper limit\n",
    "low_limit = Q1 - 1.5 * IQR\n",
    "upp_limit = Q3 + 1.5 * IQR\n",
    "\n",
    "# Finding the outliers by considering that all values below lower and all values above upper limit as outliers.\n",
    "outlier = []\n",
    "\n",
    "for i in data['Fare']:\n",
    "    if ((i < low_limit) or ( i > upp_limit )):\n",
    "        outlier.append(i)\n",
    "\n",
    "print('The no.of outliers present in the Fare column:',len(outlier))"
   ]
  },
  {
   "cell_type": "markdown",
   "id": "08650c6c",
   "metadata": {},
   "source": [
    "We see that there are 116 outliers. Hence deleting this huge number of values will affect the data set.\n",
    "\n",
    "We also don't know by 'Fare' it means price of single ticket for one individual or it also contain total fare paid by one family or group.\n",
    "\n",
    "Hence, we can't say it as an incorrect entry, so imputation is the best way to handle the outliers here because we don’t lose any data.\n",
    "\n",
    "We see that, the mean is much higher than median and standard deviation is also too high.\n",
    "\n",
    "Most of the 'Fare' column value lies above the 75th percentile. That means higher Fare values.\n",
    "\n",
    "So, we will impute all the values above upp_limit using capping and set the cap to upp_limit.\n"
   ]
  },
  {
   "cell_type": "code",
   "execution_count": 45,
   "id": "43a1c90c",
   "metadata": {},
   "outputs": [],
   "source": [
    "# Re-placing all the values above the upp_limit with the upp_limit value. \n",
    "data[\"Fare\"] = np.where(data[\"Fare\"] > upp_limit, upp_limit, data['Fare'])"
   ]
  },
  {
   "cell_type": "code",
   "execution_count": 46,
   "id": "e5380ecc",
   "metadata": {},
   "outputs": [
    {
     "data": {
      "image/png": "[encoded data removed]",
      "text/plain": [
       "<Figure size 432x288 with 1 Axes>"
      ]
     },
     "metadata": {
      "needs_background": "light"
     },
     "output_type": "display_data"
    }
   ],
   "source": [
    "# Re-Checking the Age column after removing the outliers\n",
    "plt.boxplot(data['Fare'])\n",
    "plt.title('Box plot of Fare after handling outliers')\n",
    "plt.show()"
   ]
  },
  {
   "cell_type": "code",
   "execution_count": 47,
   "id": "f29f040d",
   "metadata": {},
   "outputs": [
    {
     "data": {
      "text/plain": [
       "count    891.000000\n",
       "mean      24.046813\n",
       "std       20.481625\n",
       "min        0.000000\n",
       "25%        7.910400\n",
       "50%       14.454200\n",
       "75%       31.000000\n",
       "max       65.634400\n",
       "Name: Fare, dtype: float64"
      ]
     },
     "execution_count": 47,
     "metadata": {},
     "output_type": "execute_result"
    }
   ],
   "source": [
    "data['Fare'].describe()"
   ]
  },
  {
   "cell_type": "markdown",
   "id": "4efba745",
   "metadata": {},
   "source": [
    "We see there is no outliers and the standard deviation is reduced"
   ]
  },
  {
   "cell_type": "code",
   "execution_count": 49,
   "id": "c19ab345",
   "metadata": {},
   "outputs": [],
   "source": [
    "# 3. Checking the outliers in SibSp column"
   ]
  },
  {
   "cell_type": "code",
   "execution_count": 50,
   "id": "5d68d51e",
   "metadata": {},
   "outputs": [
    {
     "name": "stdout",
     "output_type": "stream",
     "text": [
      "[1 0 3 4 2 5 8]\n"
     ]
    }
   ],
   "source": [
    "print(data['SibSp'].unique())"
   ]
  },
  {
   "cell_type": "code",
   "execution_count": 51,
   "id": "1b24ac61",
   "metadata": {},
   "outputs": [
    {
     "data": {
      "image/png": "[encoded data removed]",
      "text/plain": [
       "<Figure size 360x432 with 1 Axes>"
      ]
     },
     "metadata": {
      "needs_background": "light"
     },
     "output_type": "display_data"
    }
   ],
   "source": [
    "plt.figure(figsize = (5,6))\n",
    "sibSp_count = sns.countplot(x='SibSp',data=data)\n",
    "plt.title('Count plot of SibSp')\n",
    "plt.ylabel('Count')\n",
    "plt.bar_label(sibSp_count.containers[0],fontsize=12)\n",
    "plt.show()"
   ]
  },
  {
   "cell_type": "code",
   "execution_count": 52,
   "id": "e220fd67",
   "metadata": {},
   "outputs": [
    {
     "data": {
      "text/plain": [
       "count    891.000000\n",
       "mean       0.523008\n",
       "std        1.102743\n",
       "min        0.000000\n",
       "25%        0.000000\n",
       "50%        0.000000\n",
       "75%        1.000000\n",
       "max        8.000000\n",
       "Name: SibSp, dtype: float64"
      ]
     },
     "execution_count": 52,
     "metadata": {},
     "output_type": "execute_result"
    }
   ],
   "source": [
    "data['SibSp'].describe()"
   ]
  },
  {
   "cell_type": "code",
   "execution_count": 53,
   "id": "01f035dc",
   "metadata": {},
   "outputs": [],
   "source": [
    "# We understand that SibSp column represent the no.of Siblings/Spouses abroad in the ship.\n",
    "# Since they are unique by its own, we don't have to consider them as outliers and keep the SibSp column as same."
   ]
  },
  {
   "cell_type": "code",
   "execution_count": 54,
   "id": "bd7855da",
   "metadata": {},
   "outputs": [
    {
     "name": "stdout",
     "output_type": "stream",
     "text": [
      "[0 1 2 5 3 4 6]\n"
     ]
    }
   ],
   "source": [
    "# 4. Checking the outliers in Parch column\n",
    "print(data['Parch'].unique())"
   ]
  },
  {
   "cell_type": "code",
   "execution_count": 55,
   "id": "8ddc8b53",
   "metadata": {},
   "outputs": [
    {
     "data": {
      "image/png": "[encoded data removed]",
      "text/plain": [
       "<Figure size 360x432 with 1 Axes>"
      ]
     },
     "metadata": {
      "needs_background": "light"
     },
     "output_type": "display_data"
    }
   ],
   "source": [
    "plt.figure(figsize = (5,6))\n",
    "parch_count = sns.countplot(x='Parch', data = data)\n",
    "plt.title('Count plot of Parch')\n",
    "plt.ylabel('Count')\n",
    "plt.bar_label(parch_count.containers[0],fontsize=12)\n",
    "plt.show()"
   ]
  },
  {
   "cell_type": "code",
   "execution_count": 56,
   "id": "c6070ba7",
   "metadata": {},
   "outputs": [
    {
     "data": {
      "text/plain": [
       "count    891.000000\n",
       "mean       0.381594\n",
       "std        0.806057\n",
       "min        0.000000\n",
       "25%        0.000000\n",
       "50%        0.000000\n",
       "75%        0.000000\n",
       "max        6.000000\n",
       "Name: Parch, dtype: float64"
      ]
     },
     "execution_count": 56,
     "metadata": {},
     "output_type": "execute_result"
    }
   ],
   "source": [
    "data['Parch'].describe()"
   ]
  },
  {
   "cell_type": "code",
   "execution_count": 57,
   "id": "bf799223",
   "metadata": {},
   "outputs": [],
   "source": [
    "# Same like SibSp column, the Parch column represent the no.of Parents/Children abroad in the ship.\n",
    "# Hence, they are unique by its own, and thus we don't have to consider them as outliers and keep the Parch column as same."
   ]
  },
  {
   "cell_type": "markdown",
   "id": "900e33d5",
   "metadata": {},
   "source": [
    "# 6. Do min max scaling on the feature set (Take ‘Survived’ as target)"
   ]
  },
  {
   "cell_type": "markdown",
   "id": "73403c90",
   "metadata": {},
   "source": [
    "Feature scaling is the process of normalising the range of features in a dataset.\n",
    "\n",
    "Datasets often contain features that are varying in degrees of magnitude, range and units. Therefore, in order for machine learning models to interpret these features on the same scale, we need to perform feature scaling.\n",
    "The most common techniques of feature scaling are Normalization and Standardization.\n",
    "\n",
    "MinMaxScaler is the Scikit-learn function for normalisation.\n",
    "MinMaxScaler transform features by scaling each feature to a given range.\n",
    "\n",
    "This estimator scales and translates each feature individually such that it is in the given range on the training set, e.g., between zero and one."
   ]
  },
  {
   "cell_type": "markdown",
   "id": "ec444916",
   "metadata": {},
   "source": [
    "We will compute Linear regression, a model that assumes a linear relationship between the input features (X) and the target feature (y)."
   ]
  },
  {
   "cell_type": "code",
   "execution_count": 59,
   "id": "5b207835",
   "metadata": {},
   "outputs": [],
   "source": [
    "# We first calculate it from the normal data(without scaling) and then perform a MinMax scaling to check whether it helping to make better model."
   ]
  },
  {
   "cell_type": "code",
   "execution_count": 60,
   "id": "e14b2c93",
   "metadata": {},
   "outputs": [],
   "source": [
    "# Creating a new data set which contains only numerical features\n",
    "sub_data = data.select_dtypes(exclude= 'object')"
   ]
  },
  {
   "cell_type": "code",
   "execution_count": 61,
   "id": "dbd46cc9",
   "metadata": {},
   "outputs": [],
   "source": [
    "# Making 'Survived' as target and rest into input\n",
    "X = sub_data.drop('Survived',axis = 1)\n",
    "y = sub_data['Survived']"
   ]
  },
  {
   "cell_type": "code",
   "execution_count": 62,
   "id": "b38e9155",
   "metadata": {},
   "outputs": [
    {
     "data": {
      "text/html": [
       "<div>\n",
       "<style scoped>\n",
       "    .dataframe tbody tr th:only-of-type {\n",
       "        vertical-align: middle;\n",
       "    }\n",
       "\n",
       "    .dataframe tbody tr th {\n",
       "        vertical-align: top;\n",
       "    }\n",
       "\n",
       "    .dataframe thead th {\n",
       "        text-align: right;\n",
       "    }\n",
       "</style>\n",
       "<table border=\"1\" class=\"dataframe\">\n",
       "  <thead>\n",
       "    <tr style=\"text-align: right;\">\n",
       "      <th></th>\n",
       "      <th>Pclass</th>\n",
       "      <th>Age</th>\n",
       "      <th>SibSp</th>\n",
       "      <th>Parch</th>\n",
       "      <th>Fare</th>\n",
       "    </tr>\n",
       "  </thead>\n",
       "  <tbody>\n",
       "    <tr>\n",
       "      <th>count</th>\n",
       "      <td>891.000000</td>\n",
       "      <td>891.000000</td>\n",
       "      <td>891.000000</td>\n",
       "      <td>891.000000</td>\n",
       "      <td>891.000000</td>\n",
       "    </tr>\n",
       "    <tr>\n",
       "      <th>mean</th>\n",
       "      <td>2.308642</td>\n",
       "      <td>28.476992</td>\n",
       "      <td>0.523008</td>\n",
       "      <td>0.381594</td>\n",
       "      <td>24.046813</td>\n",
       "    </tr>\n",
       "    <tr>\n",
       "      <th>std</th>\n",
       "      <td>0.836071</td>\n",
       "      <td>9.793559</td>\n",
       "      <td>1.102743</td>\n",
       "      <td>0.806057</td>\n",
       "      <td>20.481625</td>\n",
       "    </tr>\n",
       "    <tr>\n",
       "      <th>min</th>\n",
       "      <td>1.000000</td>\n",
       "      <td>3.000000</td>\n",
       "      <td>0.000000</td>\n",
       "      <td>0.000000</td>\n",
       "      <td>0.000000</td>\n",
       "    </tr>\n",
       "    <tr>\n",
       "      <th>25%</th>\n",
       "      <td>2.000000</td>\n",
       "      <td>23.750000</td>\n",
       "      <td>0.000000</td>\n",
       "      <td>0.000000</td>\n",
       "      <td>7.910400</td>\n",
       "    </tr>\n",
       "    <tr>\n",
       "      <th>50%</th>\n",
       "      <td>3.000000</td>\n",
       "      <td>28.000000</td>\n",
       "      <td>0.000000</td>\n",
       "      <td>0.000000</td>\n",
       "      <td>14.454200</td>\n",
       "    </tr>\n",
       "    <tr>\n",
       "      <th>75%</th>\n",
       "      <td>3.000000</td>\n",
       "      <td>33.000000</td>\n",
       "      <td>1.000000</td>\n",
       "      <td>0.000000</td>\n",
       "      <td>31.000000</td>\n",
       "    </tr>\n",
       "    <tr>\n",
       "      <th>max</th>\n",
       "      <td>3.000000</td>\n",
       "      <td>54.000000</td>\n",
       "      <td>8.000000</td>\n",
       "      <td>6.000000</td>\n",
       "      <td>65.634400</td>\n",
       "    </tr>\n",
       "  </tbody>\n",
       "</table>\n",
       "</div>"
      ],
      "text/plain": [
       "           Pclass         Age       SibSp       Parch        Fare\n",
       "count  891.000000  891.000000  891.000000  891.000000  891.000000\n",
       "mean     2.308642   28.476992    0.523008    0.381594   24.046813\n",
       "std      0.836071    9.793559    1.102743    0.806057   20.481625\n",
       "min      1.000000    3.000000    0.000000    0.000000    0.000000\n",
       "25%      2.000000   23.750000    0.000000    0.000000    7.910400\n",
       "50%      3.000000   28.000000    0.000000    0.000000   14.454200\n",
       "75%      3.000000   33.000000    1.000000    0.000000   31.000000\n",
       "max      3.000000   54.000000    8.000000    6.000000   65.634400"
      ]
     },
     "execution_count": 62,
     "metadata": {},
     "output_type": "execute_result"
    }
   ],
   "source": [
    "# Checking the statistical summary of the X dataset(input/independent features)\n",
    "X.describe()"
   ]
  },
  {
   "cell_type": "code",
   "execution_count": 63,
   "id": "7aa86060",
   "metadata": {},
   "outputs": [],
   "source": [
    "# Now we will make train and test data and then create Linear Regression model and finally make prediction about target.\n",
    "# Importing necessary libraries\n",
    "from sklearn.model_selection import train_test_split\n",
    "from sklearn import linear_model\n",
    "\n",
    "X_train,X_test,y_train,y_test = train_test_split(X,y,random_state = 42, test_size = .20)\n",
    "\n",
    "lr = linear_model.LinearRegression()\n",
    "model = lr.fit(X_train,y_train)\n",
    "predictions = model.predict(X_test)"
   ]
  },
  {
   "cell_type": "code",
   "execution_count": 64,
   "id": "99205170",
   "metadata": {},
   "outputs": [
    {
     "name": "stdout",
     "output_type": "stream",
     "text": [
      "MSE value is:  0.19581214722484636\n",
      "R squared value is:  0.1925332034451348\n"
     ]
    }
   ],
   "source": [
    "# We will find the Mean Squared Error(MSE) and R-Square to evaluate the model\n",
    "# Importing necessary libraries\n",
    "from sklearn.metrics import mean_squared_error\n",
    "from sklearn.metrics import r2_score\n",
    "\n",
    "print('MSE value is: ', mean_squared_error(y_test, predictions))\n",
    "\n",
    "print('R squared value is: ', r2_score(y_test, predictions))"
   ]
  },
  {
   "cell_type": "code",
   "execution_count": 66,
   "id": "da5c7406",
   "metadata": {},
   "outputs": [
    {
     "data": {
      "text/html": [
       "<div>\n",
       "<style scoped>\n",
       "    .dataframe tbody tr th:only-of-type {\n",
       "        vertical-align: middle;\n",
       "    }\n",
       "\n",
       "    .dataframe tbody tr th {\n",
       "        vertical-align: top;\n",
       "    }\n",
       "\n",
       "    .dataframe thead th {\n",
       "        text-align: right;\n",
       "    }\n",
       "</style>\n",
       "<table border=\"1\" class=\"dataframe\">\n",
       "  <thead>\n",
       "    <tr style=\"text-align: right;\">\n",
       "      <th></th>\n",
       "      <th>0</th>\n",
       "      <th>1</th>\n",
       "      <th>2</th>\n",
       "      <th>3</th>\n",
       "      <th>4</th>\n",
       "    </tr>\n",
       "  </thead>\n",
       "  <tbody>\n",
       "    <tr>\n",
       "      <th>count</th>\n",
       "      <td>891.000000</td>\n",
       "      <td>891.000000</td>\n",
       "      <td>891.000000</td>\n",
       "      <td>891.000000</td>\n",
       "      <td>891.000000</td>\n",
       "    </tr>\n",
       "    <tr>\n",
       "      <th>mean</th>\n",
       "      <td>0.654321</td>\n",
       "      <td>0.499549</td>\n",
       "      <td>0.065376</td>\n",
       "      <td>0.063599</td>\n",
       "      <td>0.366375</td>\n",
       "    </tr>\n",
       "    <tr>\n",
       "      <th>std</th>\n",
       "      <td>0.418036</td>\n",
       "      <td>0.192031</td>\n",
       "      <td>0.137843</td>\n",
       "      <td>0.134343</td>\n",
       "      <td>0.312056</td>\n",
       "    </tr>\n",
       "    <tr>\n",
       "      <th>min</th>\n",
       "      <td>0.000000</td>\n",
       "      <td>0.000000</td>\n",
       "      <td>0.000000</td>\n",
       "      <td>0.000000</td>\n",
       "      <td>0.000000</td>\n",
       "    </tr>\n",
       "    <tr>\n",
       "      <th>25%</th>\n",
       "      <td>0.500000</td>\n",
       "      <td>0.406863</td>\n",
       "      <td>0.000000</td>\n",
       "      <td>0.000000</td>\n",
       "      <td>0.120522</td>\n",
       "    </tr>\n",
       "    <tr>\n",
       "      <th>50%</th>\n",
       "      <td>1.000000</td>\n",
       "      <td>0.490196</td>\n",
       "      <td>0.000000</td>\n",
       "      <td>0.000000</td>\n",
       "      <td>0.220223</td>\n",
       "    </tr>\n",
       "    <tr>\n",
       "      <th>75%</th>\n",
       "      <td>1.000000</td>\n",
       "      <td>0.588235</td>\n",
       "      <td>0.125000</td>\n",
       "      <td>0.000000</td>\n",
       "      <td>0.472313</td>\n",
       "    </tr>\n",
       "    <tr>\n",
       "      <th>max</th>\n",
       "      <td>1.000000</td>\n",
       "      <td>1.000000</td>\n",
       "      <td>1.000000</td>\n",
       "      <td>1.000000</td>\n",
       "      <td>1.000000</td>\n",
       "    </tr>\n",
       "  </tbody>\n",
       "</table>\n",
       "</div>"
      ],
      "text/plain": [
       "                0           1           2           3           4\n",
       "count  891.000000  891.000000  891.000000  891.000000  891.000000\n",
       "mean     0.654321    0.499549    0.065376    0.063599    0.366375\n",
       "std      0.418036    0.192031    0.137843    0.134343    0.312056\n",
       "min      0.000000    0.000000    0.000000    0.000000    0.000000\n",
       "25%      0.500000    0.406863    0.000000    0.000000    0.120522\n",
       "50%      1.000000    0.490196    0.000000    0.000000    0.220223\n",
       "75%      1.000000    0.588235    0.125000    0.000000    0.472313\n",
       "max      1.000000    1.000000    1.000000    1.000000    1.000000"
      ]
     },
     "execution_count": 66,
     "metadata": {},
     "output_type": "execute_result"
    }
   ],
   "source": [
    "# Now we will perform MinMax scaling on the feature set \n",
    "# Importing necessary libraries\n",
    "from sklearn import preprocessing\n",
    "\n",
    "# Create MinMaxScaler with scaling each feature to a range 0 to 1\n",
    "min_max = preprocessing.MinMaxScaler(feature_range=(0,1))\n",
    "\n",
    "# Fitting into data, and then transforming it.\n",
    "X = min_max.fit_transform(X)\n",
    "\n",
    "# Convert the scaled and trasformed data back into a Dataframe\n",
    "X = pd.DataFrame(X)\n",
    "\n",
    "# Checking the statistical summary of the scaled and trasformed X dataset\n",
    "X.describe()"
   ]
  },
  {
   "cell_type": "markdown",
   "id": "6de09eb4",
   "metadata": {},
   "source": [
    "We successfully scaled and transformed the data using MinMaxScaler setting Min to 0 and Max to 1"
   ]
  },
  {
   "cell_type": "code",
   "execution_count": 68,
   "id": "1c80b08c",
   "metadata": {},
   "outputs": [],
   "source": [
    "# Now we will again create a regression model and check whether MinMaxScaler helped improving the model \n",
    "X_train,X_test,y_train,y_test = train_test_split(X,y,random_state = 42, test_size = .20)\n",
    "\n",
    "lr = linear_model.LinearRegression()\n",
    "model = lr.fit(X_train,y_train)\n",
    "predictions = model.predict(X_test)"
   ]
  },
  {
   "cell_type": "code",
   "execution_count": 69,
   "id": "8b086c96",
   "metadata": {},
   "outputs": [
    {
     "name": "stdout",
     "output_type": "stream",
     "text": [
      "MSE value is:  0.19581214722484636\n",
      "R squared value is:  0.1925332034451348\n"
     ]
    }
   ],
   "source": [
    "print('MSE value is: ', mean_squared_error(y_test, predictions))\n",
    "\n",
    "print('R squared value is: ', r2_score(y_test, predictions))"
   ]
  },
  {
   "cell_type": "markdown",
   "id": "dd86e530",
   "metadata": {},
   "source": [
    "We see there is no significant diffrence in the MSE and R squared value. Only a slight diffrence, MSE reducing and R-Squared incrasing.\n",
    "\n",
    "So we can not say MinMax scalling significantly helped, but it made some minute changes to make it better. Because we know, we need to make MSE closer to zero and R squared to one."
   ]
  },
  {
   "cell_type": "code",
   "execution_count": null,
   "id": "b7819be7",
   "metadata": {},
   "outputs": [],
   "source": []
  }
 ],
 "metadata": {
  "kernelspec": {
   "display_name": "Python 3 (ipykernel)",
   "language": "python",
   "name": "python3"
  },
  "language_info": {
   "codemirror_mode": {
    "name": "ipython",
    "version": 3
   },
   "file_extension": ".py",
   "mimetype": "text/x-python",
   "name": "python",
   "nbconvert_exporter": "python",
   "pygments_lexer": "ipython3",
   "version": "3.9.7"
  }
 },
 "nbformat": 4,
 "nbformat_minor": 5
}
