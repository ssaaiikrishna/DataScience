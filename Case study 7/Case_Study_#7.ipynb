{
 "cells": [
  {
   "cell_type": "markdown",
   "id": "eae90c5c",
   "metadata": {},
   "source": [
    "# Supervised Learning"
   ]
  },
  {
   "cell_type": "code",
   "execution_count": 1,
   "id": "61e7f0f4",
   "metadata": {},
   "outputs": [],
   "source": [
    "# Importing the necessary libraries\n",
    "import numpy as np\n",
    "import pandas as pd\n",
    "import seaborn as sns\n",
    "import matplotlib.pyplot as plt"
   ]
  },
  {
   "cell_type": "markdown",
   "id": "f2bf8ff8",
   "metadata": {},
   "source": [
    "# 1. Read the dataset to the python environment."
   ]
  },
  {
   "cell_type": "code",
   "execution_count": 2,
   "id": "9fe721d7",
   "metadata": {},
   "outputs": [],
   "source": [
    "# Read the data to Python environment\n",
    "data = pd.read_excel(\"iris.xls\")"
   ]
  },
  {
   "cell_type": "code",
   "execution_count": 3,
   "id": "1f72812b",
   "metadata": {},
   "outputs": [
    {
     "data": {
      "text/html": [
       "<div>\n",
       "<style scoped>\n",
       "    .dataframe tbody tr th:only-of-type {\n",
       "        vertical-align: middle;\n",
       "    }\n",
       "\n",
       "    .dataframe tbody tr th {\n",
       "        vertical-align: top;\n",
       "    }\n",
       "\n",
       "    .dataframe thead th {\n",
       "        text-align: right;\n",
       "    }\n",
       "</style>\n",
       "<table border=\"1\" class=\"dataframe\">\n",
       "  <thead>\n",
       "    <tr style=\"text-align: right;\">\n",
       "      <th></th>\n",
       "      <th>SL</th>\n",
       "      <th>SW</th>\n",
       "      <th>PL</th>\n",
       "      <th>PW</th>\n",
       "      <th>Classification</th>\n",
       "    </tr>\n",
       "  </thead>\n",
       "  <tbody>\n",
       "    <tr>\n",
       "      <th>44</th>\n",
       "      <td>5.1</td>\n",
       "      <td>3.8</td>\n",
       "      <td>1.9</td>\n",
       "      <td>0.4</td>\n",
       "      <td>Iris-setosa</td>\n",
       "    </tr>\n",
       "    <tr>\n",
       "      <th>76</th>\n",
       "      <td>6.8</td>\n",
       "      <td>2.8</td>\n",
       "      <td>4.8</td>\n",
       "      <td>1.4</td>\n",
       "      <td>Iris-versicolor</td>\n",
       "    </tr>\n",
       "    <tr>\n",
       "      <th>128</th>\n",
       "      <td>6.4</td>\n",
       "      <td>2.8</td>\n",
       "      <td>5.6</td>\n",
       "      <td>2.1</td>\n",
       "      <td>Iris-virginica</td>\n",
       "    </tr>\n",
       "    <tr>\n",
       "      <th>105</th>\n",
       "      <td>7.6</td>\n",
       "      <td>3.0</td>\n",
       "      <td>6.6</td>\n",
       "      <td>2.1</td>\n",
       "      <td>Iris-virginica</td>\n",
       "    </tr>\n",
       "    <tr>\n",
       "      <th>39</th>\n",
       "      <td>NaN</td>\n",
       "      <td>3.4</td>\n",
       "      <td>1.5</td>\n",
       "      <td>0.2</td>\n",
       "      <td>Iris-setosa</td>\n",
       "    </tr>\n",
       "  </tbody>\n",
       "</table>\n",
       "</div>"
      ],
      "text/plain": [
       "      SL   SW   PL   PW   Classification\n",
       "44   5.1  3.8  1.9  0.4      Iris-setosa\n",
       "76   6.8  2.8  4.8  1.4  Iris-versicolor\n",
       "128  6.4  2.8  5.6  2.1   Iris-virginica\n",
       "105  7.6  3.0  6.6  2.1   Iris-virginica\n",
       "39   NaN  3.4  1.5  0.2      Iris-setosa"
      ]
     },
     "execution_count": 3,
     "metadata": {},
     "output_type": "execute_result"
    }
   ],
   "source": [
    "# Displaying five random rows\n",
    "data.sample(5)"
   ]
  },
  {
   "cell_type": "code",
   "execution_count": 4,
   "id": "0e28b95b",
   "metadata": {},
   "outputs": [
    {
     "name": "stdout",
     "output_type": "stream",
     "text": [
      "The no.of Rows and Columns in the data set is: (150, 5)\n"
     ]
    }
   ],
   "source": [
    "# Checking the shape of the data set\n",
    "print('The no.of Rows and Columns in the data set is:', data.shape)"
   ]
  },
  {
   "cell_type": "markdown",
   "id": "1d5b2d0c",
   "metadata": {},
   "source": [
    "The Iris Dataset contains four features (length and width of Sepals and Petals) of three species of Iris (Iris setosa, Iris virginica and Iris versicolor).\n",
    "\n",
    "Following are explanations of the columns:\n",
    "\n",
    "SL = Sepal length in cm\n",
    "SW = Sepal width in cm\n",
    "PL = Petal length in cm\n",
    "PW = Petal width in cm\n",
    "Classification(Name of species):\n",
    "Iris Setosa\n",
    "Iris Versicolour\n",
    "Iris Virginica"
   ]
  },
  {
   "cell_type": "markdown",
   "id": "b3ed33f9",
   "metadata": {},
   "source": [
    "# 2. Do necessary pre-processing steps."
   ]
  },
  {
   "cell_type": "code",
   "execution_count": 5,
   "id": "a862a426",
   "metadata": {},
   "outputs": [
    {
     "data": {
      "text/plain": [
       "Index(['SL', 'SW', 'PL', 'PW', 'Classification'], dtype='object')"
      ]
     },
     "execution_count": 5,
     "metadata": {},
     "output_type": "execute_result"
    }
   ],
   "source": [
    "# Displaying the column names\n",
    "data.columns"
   ]
  },
  {
   "cell_type": "code",
   "execution_count": 6,
   "id": "78f6bc68",
   "metadata": {},
   "outputs": [
    {
     "data": {
      "text/html": [
       "<div>\n",
       "<style scoped>\n",
       "    .dataframe tbody tr th:only-of-type {\n",
       "        vertical-align: middle;\n",
       "    }\n",
       "\n",
       "    .dataframe tbody tr th {\n",
       "        vertical-align: top;\n",
       "    }\n",
       "\n",
       "    .dataframe thead th {\n",
       "        text-align: right;\n",
       "    }\n",
       "</style>\n",
       "<table border=\"1\" class=\"dataframe\">\n",
       "  <thead>\n",
       "    <tr style=\"text-align: right;\">\n",
       "      <th></th>\n",
       "      <th>Sepal_length</th>\n",
       "      <th>Sepal_width</th>\n",
       "      <th>Petal_length</th>\n",
       "      <th>Petal_width</th>\n",
       "      <th>Classification</th>\n",
       "    </tr>\n",
       "  </thead>\n",
       "  <tbody>\n",
       "    <tr>\n",
       "      <th>0</th>\n",
       "      <td>5.1</td>\n",
       "      <td>3.5</td>\n",
       "      <td>1.4</td>\n",
       "      <td>0.2</td>\n",
       "      <td>Iris-setosa</td>\n",
       "    </tr>\n",
       "    <tr>\n",
       "      <th>1</th>\n",
       "      <td>4.9</td>\n",
       "      <td>3.0</td>\n",
       "      <td>1.4</td>\n",
       "      <td>0.2</td>\n",
       "      <td>Iris-setosa</td>\n",
       "    </tr>\n",
       "    <tr>\n",
       "      <th>2</th>\n",
       "      <td>NaN</td>\n",
       "      <td>3.2</td>\n",
       "      <td>1.3</td>\n",
       "      <td>0.2</td>\n",
       "      <td>Iris-setosa</td>\n",
       "    </tr>\n",
       "    <tr>\n",
       "      <th>3</th>\n",
       "      <td>4.6</td>\n",
       "      <td>3.1</td>\n",
       "      <td>1.5</td>\n",
       "      <td>0.2</td>\n",
       "      <td>Iris-setosa</td>\n",
       "    </tr>\n",
       "    <tr>\n",
       "      <th>4</th>\n",
       "      <td>5.0</td>\n",
       "      <td>3.6</td>\n",
       "      <td>1.4</td>\n",
       "      <td>0.2</td>\n",
       "      <td>Iris-setosa</td>\n",
       "    </tr>\n",
       "  </tbody>\n",
       "</table>\n",
       "</div>"
      ],
      "text/plain": [
       "   Sepal_length  Sepal_width  Petal_length  Petal_width Classification\n",
       "0           5.1          3.5           1.4          0.2    Iris-setosa\n",
       "1           4.9          3.0           1.4          0.2    Iris-setosa\n",
       "2           NaN          3.2           1.3          0.2    Iris-setosa\n",
       "3           4.6          3.1           1.5          0.2    Iris-setosa\n",
       "4           5.0          3.6           1.4          0.2    Iris-setosa"
      ]
     },
     "execution_count": 6,
     "metadata": {},
     "output_type": "execute_result"
    }
   ],
   "source": [
    "# Changing the column names for easy understanding (pre-processing step)\n",
    "data.columns = ['Sepal_length','Sepal_width','Petal_length','Petal_width', 'Classification']\n",
    "data.head()"
   ]
  },
  {
   "cell_type": "code",
   "execution_count": 7,
   "id": "4ba0bf59",
   "metadata": {},
   "outputs": [
    {
     "data": {
      "text/plain": [
       "Sepal_length      7\n",
       "Sepal_width       6\n",
       "Petal_length      6\n",
       "Petal_width       0\n",
       "Classification    0\n",
       "dtype: int64"
      ]
     },
     "execution_count": 7,
     "metadata": {},
     "output_type": "execute_result"
    }
   ],
   "source": [
    "# Checking for Null values in the data set (pre-processing step)\n",
    "data.isnull().sum()\n"
   ]
  },
  {
   "cell_type": "markdown",
   "id": "ab13418a",
   "metadata": {},
   "source": [
    "Missing values present in Sepal_length, Sepal _width and Petal_length columns"
   ]
  },
  {
   "cell_type": "code",
   "execution_count": 8,
   "id": "3bd327f8",
   "metadata": {},
   "outputs": [
    {
     "data": {
      "image/png": "[encoded data removed]",
      "text/plain": [
       "<Figure size 432x288 with 1 Axes>"
      ]
     },
     "metadata": {
      "needs_background": "light"
     },
     "output_type": "display_data"
    }
   ],
   "source": [
    "# 1. Handling the missing values in Sepal_length column\n",
    "plt.hist('Sepal_length',data = data)\n",
    "plt.show()"
   ]
  },
  {
   "cell_type": "code",
   "execution_count": 9,
   "id": "91c22f8f",
   "metadata": {},
   "outputs": [],
   "source": [
    "# We see that the data is not normally distributed, it skewed to right.\n",
    "# So, we fill the missing values with median using fillna() method\n",
    "data['Sepal_length'] = data['Sepal_length'].fillna(data['Sepal_length'].median())"
   ]
  },
  {
   "cell_type": "code",
   "execution_count": 10,
   "id": "96e6e8ad",
   "metadata": {},
   "outputs": [
    {
     "data": {
      "image/png": "[encoded data removed]",
      "text/plain": [
       "<Figure size 432x288 with 1 Axes>"
      ]
     },
     "metadata": {
      "needs_background": "light"
     },
     "output_type": "display_data"
    }
   ],
   "source": [
    "# 2. Handling the missing values in Sepal _width column\n",
    "plt.hist('Sepal_width',data = data)\n",
    "plt.show()"
   ]
  },
  {
   "cell_type": "code",
   "execution_count": 11,
   "id": "cc3305ac",
   "metadata": {},
   "outputs": [],
   "source": [
    "# We see that the data is not normally distributed, it skewed to right.\n",
    "# So, we fill the missing values with median using fillna() method\n",
    "data['Sepal_width'] = data['Sepal_width'].fillna(data['Sepal_width'].median())"
   ]
  },
  {
   "cell_type": "code",
   "execution_count": 12,
   "id": "70cb33d7",
   "metadata": {},
   "outputs": [
    {
     "data": {
      "image/png": "[encoded data removed]",
      "text/plain": [
       "<Figure size 432x288 with 1 Axes>"
      ]
     },
     "metadata": {
      "needs_background": "light"
     },
     "output_type": "display_data"
    }
   ],
   "source": [
    "# 3. Handling the missing values in Petal_length column\n",
    "plt.hist('Petal_length',data = data)\n",
    "plt.show()"
   ]
  },
  {
   "cell_type": "code",
   "execution_count": 13,
   "id": "6fc349a4",
   "metadata": {},
   "outputs": [],
   "source": [
    "# We see that the data is not normally distributed, it skewed to left.\n",
    "# So, we fill the missing values with median using fillna() method\n",
    "data['Petal_length'] = data['Petal_length'].fillna(data['Petal_length'].median())"
   ]
  },
  {
   "cell_type": "code",
   "execution_count": 14,
   "id": "b3707820",
   "metadata": {},
   "outputs": [
    {
     "data": {
      "text/plain": [
       "Sepal_length      0\n",
       "Sepal_width       0\n",
       "Petal_length      0\n",
       "Petal_width       0\n",
       "Classification    0\n",
       "dtype: int64"
      ]
     },
     "execution_count": 14,
     "metadata": {},
     "output_type": "execute_result"
    }
   ],
   "source": [
    "# Re- Checking for Null values in the data set\n",
    "data.isnull().sum()"
   ]
  },
  {
   "cell_type": "markdown",
   "id": "bb154021",
   "metadata": {},
   "source": [
    "We sucessfully handled all the missing values in the data set."
   ]
  },
  {
   "cell_type": "code",
   "execution_count": 15,
   "id": "8a8a2460",
   "metadata": {},
   "outputs": [
    {
     "data": {
      "text/html": [
       "<div>\n",
       "<style scoped>\n",
       "    .dataframe tbody tr th:only-of-type {\n",
       "        vertical-align: middle;\n",
       "    }\n",
       "\n",
       "    .dataframe tbody tr th {\n",
       "        vertical-align: top;\n",
       "    }\n",
       "\n",
       "    .dataframe thead th {\n",
       "        text-align: right;\n",
       "    }\n",
       "</style>\n",
       "<table border=\"1\" class=\"dataframe\">\n",
       "  <thead>\n",
       "    <tr style=\"text-align: right;\">\n",
       "      <th></th>\n",
       "      <th>Sepal_length</th>\n",
       "      <th>Sepal_width</th>\n",
       "      <th>Petal_length</th>\n",
       "      <th>Petal_width</th>\n",
       "    </tr>\n",
       "  </thead>\n",
       "  <tbody>\n",
       "    <tr>\n",
       "      <th>count</th>\n",
       "      <td>150.000000</td>\n",
       "      <td>150.000000</td>\n",
       "      <td>150.000000</td>\n",
       "      <td>150.000000</td>\n",
       "    </tr>\n",
       "    <tr>\n",
       "      <th>mean</th>\n",
       "      <td>5.853333</td>\n",
       "      <td>3.047333</td>\n",
       "      <td>3.780000</td>\n",
       "      <td>1.198667</td>\n",
       "    </tr>\n",
       "    <tr>\n",
       "      <th>std</th>\n",
       "      <td>0.808567</td>\n",
       "      <td>0.421995</td>\n",
       "      <td>1.729424</td>\n",
       "      <td>0.763161</td>\n",
       "    </tr>\n",
       "    <tr>\n",
       "      <th>min</th>\n",
       "      <td>4.300000</td>\n",
       "      <td>2.000000</td>\n",
       "      <td>1.000000</td>\n",
       "      <td>0.100000</td>\n",
       "    </tr>\n",
       "    <tr>\n",
       "      <th>25%</th>\n",
       "      <td>5.200000</td>\n",
       "      <td>2.800000</td>\n",
       "      <td>1.600000</td>\n",
       "      <td>0.300000</td>\n",
       "    </tr>\n",
       "    <tr>\n",
       "      <th>50%</th>\n",
       "      <td>5.800000</td>\n",
       "      <td>3.000000</td>\n",
       "      <td>4.350000</td>\n",
       "      <td>1.300000</td>\n",
       "    </tr>\n",
       "    <tr>\n",
       "      <th>75%</th>\n",
       "      <td>6.400000</td>\n",
       "      <td>3.275000</td>\n",
       "      <td>5.100000</td>\n",
       "      <td>1.800000</td>\n",
       "    </tr>\n",
       "    <tr>\n",
       "      <th>max</th>\n",
       "      <td>7.900000</td>\n",
       "      <td>4.400000</td>\n",
       "      <td>6.900000</td>\n",
       "      <td>2.500000</td>\n",
       "    </tr>\n",
       "  </tbody>\n",
       "</table>\n",
       "</div>"
      ],
      "text/plain": [
       "       Sepal_length  Sepal_width  Petal_length  Petal_width\n",
       "count    150.000000   150.000000    150.000000   150.000000\n",
       "mean       5.853333     3.047333      3.780000     1.198667\n",
       "std        0.808567     0.421995      1.729424     0.763161\n",
       "min        4.300000     2.000000      1.000000     0.100000\n",
       "25%        5.200000     2.800000      1.600000     0.300000\n",
       "50%        5.800000     3.000000      4.350000     1.300000\n",
       "75%        6.400000     3.275000      5.100000     1.800000\n",
       "max        7.900000     4.400000      6.900000     2.500000"
      ]
     },
     "execution_count": 15,
     "metadata": {},
     "output_type": "execute_result"
    }
   ],
   "source": [
    "# Descriptive statistics for each column\n",
    "data.describe()"
   ]
  },
  {
   "cell_type": "markdown",
   "id": "a270a2d0",
   "metadata": {},
   "source": [
    "From the above table we can find the Total count, Mean, Standard Deviation, Min & Max value and percentile of each column."
   ]
  },
  {
   "cell_type": "code",
   "execution_count": 16,
   "id": "4fdbfdfb",
   "metadata": {},
   "outputs": [
    {
     "data": {
      "text/html": [
       "<div>\n",
       "<style scoped>\n",
       "    .dataframe tbody tr th:only-of-type {\n",
       "        vertical-align: middle;\n",
       "    }\n",
       "\n",
       "    .dataframe tbody tr th {\n",
       "        vertical-align: top;\n",
       "    }\n",
       "\n",
       "    .dataframe thead th {\n",
       "        text-align: right;\n",
       "    }\n",
       "</style>\n",
       "<table border=\"1\" class=\"dataframe\">\n",
       "  <thead>\n",
       "    <tr style=\"text-align: right;\">\n",
       "      <th></th>\n",
       "      <th>Classification</th>\n",
       "    </tr>\n",
       "  </thead>\n",
       "  <tbody>\n",
       "    <tr>\n",
       "      <th>count</th>\n",
       "      <td>150</td>\n",
       "    </tr>\n",
       "    <tr>\n",
       "      <th>unique</th>\n",
       "      <td>3</td>\n",
       "    </tr>\n",
       "    <tr>\n",
       "      <th>top</th>\n",
       "      <td>Iris-setosa</td>\n",
       "    </tr>\n",
       "    <tr>\n",
       "      <th>freq</th>\n",
       "      <td>50</td>\n",
       "    </tr>\n",
       "  </tbody>\n",
       "</table>\n",
       "</div>"
      ],
      "text/plain": [
       "       Classification\n",
       "count             150\n",
       "unique              3\n",
       "top       Iris-setosa\n",
       "freq               50"
      ]
     },
     "execution_count": 16,
     "metadata": {},
     "output_type": "execute_result"
    }
   ],
   "source": [
    "# Displaying the statistical summary of the categorical columns in dataset.\n",
    "data.describe(include = object)"
   ]
  },
  {
   "cell_type": "markdown",
   "id": "87afb6e6",
   "metadata": {},
   "source": [
    "There is only one categorical column in dataset named 'Classification'.\n",
    "And there are three unique values presnt in the column."
   ]
  },
  {
   "cell_type": "code",
   "execution_count": 17,
   "id": "5bb2e8d8",
   "metadata": {},
   "outputs": [],
   "source": [
    "# Checking for outliers (pre-processing step)"
   ]
  },
  {
   "cell_type": "code",
   "execution_count": 18,
   "id": "1314c29f",
   "metadata": {},
   "outputs": [
    {
     "data": {
      "text/plain": [
       "Sepal_length      float64\n",
       "Sepal_width       float64\n",
       "Petal_length      float64\n",
       "Petal_width       float64\n",
       "Classification     object\n",
       "dtype: object"
      ]
     },
     "execution_count": 18,
     "metadata": {},
     "output_type": "execute_result"
    }
   ],
   "source": [
    "# Displaying the data types \n",
    "data.dtypes"
   ]
  },
  {
   "cell_type": "code",
   "execution_count": 19,
   "id": "f26741f9",
   "metadata": {},
   "outputs": [
    {
     "data": {
      "image/png": "[encoded data removed]",
      "text/plain": [
       "<Figure size 1080x360 with 4 Axes>"
      ]
     },
     "metadata": {
      "needs_background": "light"
     },
     "output_type": "display_data"
    }
   ],
   "source": [
    "# We now plot box plot for all the numerical columns to find outliers, if any.\n",
    "plt.figure(figsize = (15,5))\n",
    "\n",
    "plt.subplot(1,4,1)\n",
    "plt.boxplot(data['Sepal_length'])\n",
    "plt.title('Box plot of Sepal Length')\n",
    "\n",
    "\n",
    "plt.subplot(1,4,2)\n",
    "plt.boxplot(data['Sepal_width'])\n",
    "plt.title('Box plot of Sepal Width')\n",
    "\n",
    "plt.subplot(1,4,3)\n",
    "plt.boxplot(data['Petal_length'])\n",
    "plt.title('Box plot of Petal Length')\n",
    "\n",
    "plt.subplot(1,4,4)\n",
    "plt.boxplot(data['Petal_width'])\n",
    "plt.title('Box plot of Petal Width')\n",
    "\n",
    "plt.tight_layout()\n",
    "plt.show()"
   ]
  },
  {
   "cell_type": "code",
   "execution_count": 20,
   "id": "fe2fe2c6",
   "metadata": {},
   "outputs": [
    {
     "data": {
      "text/plain": [
       "count    150.000000\n",
       "mean       3.047333\n",
       "std        0.421995\n",
       "min        2.000000\n",
       "25%        2.800000\n",
       "50%        3.000000\n",
       "75%        3.275000\n",
       "max        4.400000\n",
       "Name: Sepal_width, dtype: float64"
      ]
     },
     "execution_count": 20,
     "metadata": {},
     "output_type": "execute_result"
    }
   ],
   "source": [
    "# Checking the outliers in Sepal_width column\n",
    "# Checking the statistical summary of the Sepal_width column\n",
    "data['Sepal_width'].describe()"
   ]
  },
  {
   "cell_type": "markdown",
   "id": "e3dc666f",
   "metadata": {},
   "source": [
    "There are different ways to handle the outlier:\n",
    "\n",
    "We may delete outlier values if it is by some data entry error.\n",
    "We may impute outlier using mean, median, or zero and thus there is no loss of data.\n",
    "Quantile based flooring and capping.\n",
    "Another option is treating the outlier separately in the statistical model. So, we treat them in separate groups (with outlier, deleting outlier, impute outlier) and build individual model for each group and then check the output and find out what is the best way to handle the outlier."
   ]
  },
  {
   "cell_type": "code",
   "execution_count": 21,
   "id": "30c32a49",
   "metadata": {},
   "outputs": [],
   "source": [
    "# Handling the outlier with the help of Inter Quartile Range(IQR)"
   ]
  },
  {
   "cell_type": "code",
   "execution_count": 22,
   "id": "49440c1f",
   "metadata": {},
   "outputs": [
    {
     "name": "stdout",
     "output_type": "stream",
     "text": [
      "The no.of outliers present in the Sepal_width column: 5\n",
      "The outliers present in the Sepal_width column: [4.0, 4.4, 4.1, 4.2, 2.0]\n"
     ]
    }
   ],
   "source": [
    "# Finding the respective value for the percentiles at 25, 50 and 75.\n",
    "Q1 = np.percentile(data['Sepal_width'], 25, interpolation = 'midpoint')\n",
    "Q2 = np.percentile(data['Sepal_width'], 50, interpolation = 'midpoint')\n",
    "Q3 = np.percentile(data['Sepal_width'], 75, interpolation = 'midpoint')\n",
    "\n",
    "# Calculating the IQR\n",
    "IQR = Q3 - Q1\n",
    "\n",
    "# Finding the lower and upper limit\n",
    "low_limit = Q1 - 1.5 * IQR\n",
    "upp_limit = Q3 + 1.5 * IQR\n",
    "\n",
    "# Now we will find out the outliers by considering that all values below lower and all values above upper limits as outliers.\n",
    "\n",
    "outlier = []\n",
    "for i in data['Sepal_width']:\n",
    "    if ((i < low_limit) or ( i > upp_limit )):\n",
    "        outlier.append(i)\n",
    "\n",
    "print('The no.of outliers present in the Sepal_width column:',len(outlier))\n",
    "print('The outliers present in the Sepal_width column:',outlier)"
   ]
  },
  {
   "cell_type": "markdown",
   "id": "a2042897",
   "metadata": {},
   "source": [
    "Since we don't consider it as data entry errors, we will not delete these outliers.\n",
    "\n",
    "However, we need to reduce the presence of outlier for our Machine Learning models to perform better.\n",
    "\n",
    "We will impute the outliers with median value of Sepal_width column because median is not affected by the outliers."
   ]
  },
  {
   "cell_type": "code",
   "execution_count": 23,
   "id": "3d7eb3b9",
   "metadata": {},
   "outputs": [],
   "source": [
    "median_value = data['Sepal_width'].median() \n",
    "data['Sepal_width'] = np.where(data['Sepal_width'] > upp_limit , median_value , np.where(data['Sepal_width'] < low_limit, median_value, data['Sepal_width']))"
   ]
  },
  {
   "cell_type": "code",
   "execution_count": 24,
   "id": "489d65c4",
   "metadata": {},
   "outputs": [
    {
     "data": {
      "image/png": "[encoded data removed]",
      "text/plain": [
       "<Figure size 432x288 with 1 Axes>"
      ]
     },
     "metadata": {
      "needs_background": "light"
     },
     "output_type": "display_data"
    }
   ],
   "source": [
    "# Re-Checking the Sepal_width column after handling the outliers\n",
    "plt.boxplot(data['Sepal_width'])\n",
    "plt.title('Box plot of Sepal Width after handling Outliers')\n",
    "plt.show()"
   ]
  },
  {
   "cell_type": "code",
   "execution_count": 25,
   "id": "c5fe3fd4",
   "metadata": {},
   "outputs": [
    {
     "data": {
      "text/plain": [
       "count    150.000000\n",
       "mean       3.022667\n",
       "std        0.368043\n",
       "min        2.200000\n",
       "25%        2.800000\n",
       "50%        3.000000\n",
       "75%        3.200000\n",
       "max        3.900000\n",
       "Name: Sepal_width, dtype: float64"
      ]
     },
     "execution_count": 25,
     "metadata": {},
     "output_type": "execute_result"
    }
   ],
   "source": [
    "data['Sepal_width'].describe()"
   ]
  },
  {
   "cell_type": "markdown",
   "id": "2aa33bf1",
   "metadata": {},
   "source": [
    "We see there is a significant drop in the outliers, and the mean and median are really close and we reduced the standard deviation."
   ]
  },
  {
   "cell_type": "code",
   "execution_count": 26,
   "id": "f8d36419",
   "metadata": {},
   "outputs": [
    {
     "data": {
      "image/png": "[encoded data removed]",
      "text/plain": [
       "<Figure size 1080x576 with 2 Axes>"
      ]
     },
     "metadata": {
      "needs_background": "light"
     },
     "output_type": "display_data"
    }
   ],
   "source": [
    "# Feature selection (pre-processing step)\n",
    "plt.subplots(figsize=(15,8))\n",
    "sns.heatmap(data.corr(),vmin = -0.35, vmax = 1, annot = True, linewidth = .2, cmap='YlGnBu')\n",
    "plt.title('Correlation Heatmap',fontsize =15)\n",
    "plt.show()"
   ]
  },
  {
   "cell_type": "markdown",
   "id": "81cc14ae",
   "metadata": {},
   "source": [
    "We see that 'Petel_length' and 'Petel_width' are highly correlated and 'Sepal_width' and 'Petel_length' are least correlatd\n",
    "\n",
    "However, we will consider all features because, only 4 features are present in the data set."
   ]
  },
  {
   "cell_type": "code",
   "execution_count": 27,
   "id": "28a0f76c",
   "metadata": {},
   "outputs": [],
   "source": [
    "# Spliting the data set into input and target variables(pre-processing step)"
   ]
  },
  {
   "cell_type": "code",
   "execution_count": 28,
   "id": "5344dbf7",
   "metadata": {},
   "outputs": [],
   "source": [
    "# Making 'Classification' as target variable(dependent) and rest as input variables(independent)\n",
    "X = data.drop(['Classification'], axis = 1 )\n",
    "y = data['Classification']"
   ]
  },
  {
   "cell_type": "code",
   "execution_count": 29,
   "id": "eab06b15",
   "metadata": {},
   "outputs": [],
   "source": [
    "# Do Label encoding to change the target values (pre-processing step)\n",
    "from sklearn.preprocessing import LabelEncoder\n",
    "\n",
    "label_encoder = LabelEncoder() \n",
    "y = label_encoder.fit_transform(y)"
   ]
  },
  {
   "cell_type": "code",
   "execution_count": 30,
   "id": "fa2807f6",
   "metadata": {},
   "outputs": [],
   "source": [
    "# Now we will create train and test data.\n",
    "from sklearn.model_selection import train_test_split\n",
    "X_train, X_test, y_train, y_test = train_test_split(X, y, random_state = 42, test_size = 0.3)"
   ]
  },
  {
   "cell_type": "code",
   "execution_count": 31,
   "id": "97e463ff",
   "metadata": {},
   "outputs": [],
   "source": [
    "# Note: We are not performing any scaling for the input variables, because we know they are all in same scale (Centimetres)."
   ]
  },
  {
   "cell_type": "markdown",
   "id": "e0efcd92",
   "metadata": {},
   "source": [
    "# 3. Find out which classification model gives the best result to predict iris species.(also do random forest algorithm)"
   ]
  },
  {
   "cell_type": "markdown",
   "id": "bb18b287",
   "metadata": {},
   "source": [
    "A classification model tries to draw some conclusion from the input values given for training. It will predict the class labels/categories for the new data.\n",
    "\n",
    "Some of the common types of classification algorithms are: Logistic Regression, K-Nearest Neighbours, Support Vector Machine, Decision Tree, and Random Forest.\n",
    "\n",
    "The main steps involved in building a classification model:\n",
    "\n",
    "Initialize the classifier.\n",
    "Train the classifier.\n",
    "Predict the target.\n",
    "Evaluate the classification model."
   ]
  },
  {
   "cell_type": "markdown",
   "id": "19059689",
   "metadata": {},
   "source": [
    "#### Building the various Classification models"
   ]
  },
  {
   "cell_type": "code",
   "execution_count": 32,
   "id": "c28e46ce",
   "metadata": {},
   "outputs": [],
   "source": [
    "# importing alll the necessary libraries to use in various classification algorithms\n",
    "from sklearn.linear_model import LogisticRegression  # for Logistic Regression algorithm\n",
    "from sklearn.neighbors import KNeighborsClassifier  # for K Nearest Neighbours\n",
    "from sklearn.svm import SVC # for Support Vector Machine (SVM) Classifier Algorithm\n",
    "from sklearn.tree import DecisionTreeClassifier #for using Decision Tree Algoithm\n",
    "from sklearn.ensemble import RandomForestClassifier #for using Random Forest Algoithm\n",
    "\n",
    "from sklearn import metrics #for checking the model accuracy"
   ]
  },
  {
   "cell_type": "markdown",
   "id": "0843a977",
   "metadata": {},
   "source": [
    "#### 1. Logistic Regression "
   ]
  },
  {
   "cell_type": "markdown",
   "id": "ca4cad90",
   "metadata": {},
   "source": [
    "Logistic regression is a machine learning algorithm for classification."
   ]
  },
  {
   "cell_type": "code",
   "execution_count": 33,
   "id": "1f404b58",
   "metadata": {},
   "outputs": [
    {
     "name": "stdout",
     "output_type": "stream",
     "text": [
      "The accuracy of the Logistic Regression is 97.78 %\n",
      "\n",
      "The classification summary of the Precision, Recall, F1 score for each class:\n",
      "               precision    recall  f1-score   support\n",
      "\n",
      "           0       1.00      0.95      0.97        19\n",
      "           1       0.93      1.00      0.96        13\n",
      "           2       1.00      1.00      1.00        13\n",
      "\n",
      "    accuracy                           0.98        45\n",
      "   macro avg       0.98      0.98      0.98        45\n",
      "weighted avg       0.98      0.98      0.98        45\n",
      "\n"
     ]
    }
   ],
   "source": [
    "model = LogisticRegression(max_iter = 127) # Select the algorithm and initialize\n",
    "model.fit(X_train,y_train) # Then train the algorithm with the training data and the training output\n",
    "prediction = model.predict(X_test) # Now we will pass the testing data to the trained algorithm\n",
    "\n",
    "# Finally we check the accuracy of the algorithm. \n",
    "print('The accuracy of the Logistic Regression is','%.2f'%(metrics.accuracy_score(y_test, prediction)*100),'%')\n",
    "print('\\nThe classification summary of the Precision, Recall, F1 score for each class:\\n',metrics.classification_report(y_test, prediction))"
   ]
  },
  {
   "cell_type": "markdown",
   "id": "745539ff",
   "metadata": {},
   "source": [
    "Description:\n",
    "\n",
    "0 : Iris-setosa , 1 : Iris-versicolor , 2 : Iris-virginica\n",
    "\n",
    "Accuracy is a ratio of correctly predicted observation to the total observations.\n",
    "F1-Score is the weighted average of Precision and Recall used in all types of classification algorithms. Therefore, this score takes both false positives and false negatives into account.\n",
    "F1-Score is usually more useful than accuracy.\n",
    "Precision: When a positive value is predicted, how often is the prediction correct.\n",
    "Recall: When the actual value is positive, how often is the prediction correct."
   ]
  },
  {
   "cell_type": "markdown",
   "id": "960a7ad2",
   "metadata": {},
   "source": [
    "#### 2. K-Nearest Neighbours(KNN)"
   ]
  },
  {
   "cell_type": "markdown",
   "id": "780d2d7d",
   "metadata": {},
   "source": [
    "Neighbours based classification is a type of lazy learning as it does not attempt to construct a general internal model, but simply stores instances of the training data. Classification is computed from a simple majority vote of the k nearest neighbours of each point."
   ]
  },
  {
   "cell_type": "code",
   "execution_count": 34,
   "id": "7d8a49e0",
   "metadata": {},
   "outputs": [
    {
     "data": {
      "image/png": "[encoded data removed]",
      "text/plain": [
       "<Figure size 432x288 with 1 Axes>"
      ]
     },
     "metadata": {
      "needs_background": "light"
     },
     "output_type": "display_data"
    }
   ],
   "source": [
    "# Experimenting with different k values\n",
    "k_range = list(range(1,26))\n",
    "scores = []\n",
    "for k in k_range:\n",
    "    knn = KNeighborsClassifier(n_neighbors=k)\n",
    "    knn.fit(X, y)\n",
    "    y_pred = knn.predict(X)\n",
    "    scores.append(metrics.accuracy_score(y, y_pred))\n",
    "    \n",
    "plt.plot(k_range, scores,marker=\"o\")\n",
    "plt.xlabel('Value of k for KNN')\n",
    "plt.ylabel('Accuracy Score')\n",
    "plt.title('Accuracy Scores for Values of k of K-Nearest-Neighbors')\n",
    "plt.show()"
   ]
  },
  {
   "cell_type": "code",
   "execution_count": 35,
   "id": "3802850c",
   "metadata": {},
   "outputs": [
    {
     "name": "stdout",
     "output_type": "stream",
     "text": [
      "The accuracy of the KNN is 97.78 %\n",
      "\n",
      "The classification summary of the Precision, Recall, F1 score for each class:\n",
      "               precision    recall  f1-score   support\n",
      "\n",
      "           0       1.00      0.95      0.97        19\n",
      "           1       0.93      1.00      0.96        13\n",
      "           2       1.00      1.00      1.00        13\n",
      "\n",
      "    accuracy                           0.98        45\n",
      "   macro avg       0.98      0.98      0.98        45\n",
      "weighted avg       0.98      0.98      0.98        45\n",
      "\n"
     ]
    }
   ],
   "source": [
    "# For this particular dataset, we obtain the highest accuracy when k=15.\n",
    "model = KNeighborsClassifier(n_neighbors=15) # this examines 15 neighbours for putting the new data into a class\n",
    "model.fit(X_train,y_train)\n",
    "prediction = model.predict(X_test)\n",
    "\n",
    "print('The accuracy of the KNN is','%.2f'%(metrics.accuracy_score(y_test, prediction)*100),'%')\n",
    "print('\\nThe classification summary of the Precision, Recall, F1 score for each class:\\n',metrics.classification_report(y_test, prediction))"
   ]
  },
  {
   "cell_type": "markdown",
   "id": "e7f9cf36",
   "metadata": {},
   "source": [
    "#### 3. Support Vector Machine (SVM)"
   ]
  },
  {
   "cell_type": "markdown",
   "id": "76ce32f9",
   "metadata": {},
   "source": [
    "Support vector machine is a representation of the training data as points in space separated into categories by a clear gap that is as wide as possible. New examples are then mapped into that same space and predicted to belong to a category based on which side of the gap they fall."
   ]
  },
  {
   "cell_type": "code",
   "execution_count": 36,
   "id": "edf1b0cc",
   "metadata": {},
   "outputs": [
    {
     "name": "stdout",
     "output_type": "stream",
     "text": [
      "The accuracy of the SVM is: 97.78 %\n",
      "\n",
      "The classification summary of the Precision, Recall, F1 score for each class:\n",
      "               precision    recall  f1-score   support\n",
      "\n",
      "           0       1.00      0.95      0.97        19\n",
      "           1       0.93      1.00      0.96        13\n",
      "           2       1.00      1.00      1.00        13\n",
      "\n",
      "    accuracy                           0.98        45\n",
      "   macro avg       0.98      0.98      0.98        45\n",
      "weighted avg       0.98      0.98      0.98        45\n",
      "\n"
     ]
    }
   ],
   "source": [
    "model = SVC(kernel = 'rbf') \n",
    "model.fit(X_train,y_train) \n",
    "prediction = model.predict(X_test) \n",
    "\n",
    "print('The accuracy of the SVM is:','%.2f'%(metrics.accuracy_score(y_test, prediction)*100),'%')\n",
    "print('\\nThe classification summary of the Precision, Recall, F1 score for each class:\\n',metrics.classification_report(y_test, prediction))"
   ]
  },
  {
   "cell_type": "markdown",
   "id": "35cab459",
   "metadata": {},
   "source": [
    "#### 4. Decision Tree"
   ]
  },
  {
   "cell_type": "markdown",
   "id": "4a191227",
   "metadata": {},
   "source": [
    "Given a data of attributes together with its classes, a decision tree produces a sequence of rules that can be used to classify the data."
   ]
  },
  {
   "cell_type": "code",
   "execution_count": 37,
   "id": "c32524dc",
   "metadata": {},
   "outputs": [
    {
     "name": "stdout",
     "output_type": "stream",
     "text": [
      "The accuracy of the Decision Tree is 100.00 %\n",
      "\n",
      "The classification summary of the Precision, Recall, F1 score for each class:\n",
      "               precision    recall  f1-score   support\n",
      "\n",
      "           0       1.00      1.00      1.00        19\n",
      "           1       1.00      1.00      1.00        13\n",
      "           2       1.00      1.00      1.00        13\n",
      "\n",
      "    accuracy                           1.00        45\n",
      "   macro avg       1.00      1.00      1.00        45\n",
      "weighted avg       1.00      1.00      1.00        45\n",
      "\n"
     ]
    }
   ],
   "source": [
    "model = DecisionTreeClassifier()\n",
    "model.fit(X_train,y_train)\n",
    "prediction = model.predict(X_test)\n",
    "\n",
    "print('The accuracy of the Decision Tree is','%.2f'%(metrics.accuracy_score(y_test, prediction)*100),'%')\n",
    "print('\\nThe classification summary of the Precision, Recall, F1 score for each class:\\n',metrics.classification_report(y_test, prediction))"
   ]
  },
  {
   "cell_type": "markdown",
   "id": "e0148c58",
   "metadata": {},
   "source": [
    "#### 5. Creating a Random Forest algorithm"
   ]
  },
  {
   "cell_type": "markdown",
   "id": "37e22b84",
   "metadata": {},
   "source": [
    "Random forest classifier is a meta-estimator that fits a number of decision trees on various sub-samples of datasets and uses average to improve the predictive accuracy of the model and controls over-fitting. The sub-sample size is always the same as the original input sample size but the samples are drawn with replacement."
   ]
  },
  {
   "cell_type": "code",
   "execution_count": 38,
   "id": "b0c81fa0",
   "metadata": {},
   "outputs": [
    {
     "name": "stdout",
     "output_type": "stream",
     "text": [
      "The accuracy of the Random Forest model is 100.00 %\n",
      "\n",
      "The classification summary of the Precision, Recall, F1 score for each class:\n",
      "               precision    recall  f1-score   support\n",
      "\n",
      "           0       1.00      1.00      1.00        19\n",
      "           1       1.00      1.00      1.00        13\n",
      "           2       1.00      1.00      1.00        13\n",
      "\n",
      "    accuracy                           1.00        45\n",
      "   macro avg       1.00      1.00      1.00        45\n",
      "weighted avg       1.00      1.00      1.00        45\n",
      "\n"
     ]
    }
   ],
   "source": [
    "model = RandomForestClassifier()\n",
    "model.fit(X_train,y_train)\n",
    "y_pred = model.predict(X_test)\n",
    "\n",
    "print('The accuracy of the Random Forest model is','%.2f'%(metrics.accuracy_score(y_test, prediction)*100),'%')\n",
    "print('\\nThe classification summary of the Precision, Recall, F1 score for each class:\\n',metrics.classification_report(y_test, prediction))"
   ]
  },
  {
   "cell_type": "code",
   "execution_count": 39,
   "id": "5903b08e",
   "metadata": {},
   "outputs": [
    {
     "data": {
      "text/html": [
       "<div>\n",
       "<style scoped>\n",
       "    .dataframe tbody tr th:only-of-type {\n",
       "        vertical-align: middle;\n",
       "    }\n",
       "\n",
       "    .dataframe tbody tr th {\n",
       "        vertical-align: top;\n",
       "    }\n",
       "\n",
       "    .dataframe thead th {\n",
       "        text-align: right;\n",
       "    }\n",
       "</style>\n",
       "<table border=\"1\" class=\"dataframe\">\n",
       "  <thead>\n",
       "    <tr style=\"text-align: right;\">\n",
       "      <th></th>\n",
       "      <th>Feature Importance</th>\n",
       "    </tr>\n",
       "  </thead>\n",
       "  <tbody>\n",
       "    <tr>\n",
       "      <th>Petal_width</th>\n",
       "      <td>50.902691</td>\n",
       "    </tr>\n",
       "    <tr>\n",
       "      <th>Petal_length</th>\n",
       "      <td>37.555261</td>\n",
       "    </tr>\n",
       "    <tr>\n",
       "      <th>Sepal_length</th>\n",
       "      <td>7.178672</td>\n",
       "    </tr>\n",
       "    <tr>\n",
       "      <th>Sepal_width</th>\n",
       "      <td>4.363376</td>\n",
       "    </tr>\n",
       "  </tbody>\n",
       "</table>\n",
       "</div>"
      ],
      "text/plain": [
       "              Feature Importance\n",
       "Petal_width            50.902691\n",
       "Petal_length           37.555261\n",
       "Sepal_length            7.178672\n",
       "Sepal_width             4.363376"
      ]
     },
     "execution_count": 39,
     "metadata": {},
     "output_type": "execute_result"
    }
   ],
   "source": [
    "# Evaluate the importance of features using Random Forest Classifier\n",
    "pd.DataFrame(model.feature_importances_ , index =X.columns, columns = [ 'Feature Importance']).sort_values(by='Feature Importance',ascending=False)*100"
   ]
  },
  {
   "cell_type": "markdown",
   "id": "3c2d7d0b",
   "metadata": {},
   "source": [
    "We see that Petal_width and Petal_length are the important features and with them itself we can predict the target variable."
   ]
  },
  {
   "cell_type": "markdown",
   "id": "ac0b8e58",
   "metadata": {},
   "source": [
    "#### Comparing the Accuracy and F1 scores of diffrent models"
   ]
  },
  {
   "cell_type": "code",
   "execution_count": 40,
   "id": "dde10e53",
   "metadata": {},
   "outputs": [
    {
     "data": {
      "text/html": [
       "<style type=\"text/css\">\n",
       "</style>\n",
       "<table id=\"T_e1164_\">\n",
       "  <thead>\n",
       "    <tr>\n",
       "      <th class=\"col_heading level0 col0\" >Model</th>\n",
       "      <th class=\"col_heading level0 col1\" >Accuracy</th>\n",
       "      <th class=\"col_heading level0 col2\" >F1-score</th>\n",
       "    </tr>\n",
       "  </thead>\n",
       "  <tbody>\n",
       "    <tr>\n",
       "      <td id=\"T_e1164_row0_col0\" class=\"data row0 col0\" >Logistic Regression</td>\n",
       "      <td id=\"T_e1164_row0_col1\" class=\"data row0 col1\" >97.78 %</td>\n",
       "      <td id=\"T_e1164_row0_col2\" class=\"data row0 col2\" >0.98</td>\n",
       "    </tr>\n",
       "    <tr>\n",
       "      <td id=\"T_e1164_row1_col0\" class=\"data row1 col0\" >K-Nearest Neighbours</td>\n",
       "      <td id=\"T_e1164_row1_col1\" class=\"data row1 col1\" >97.78 %</td>\n",
       "      <td id=\"T_e1164_row1_col2\" class=\"data row1 col2\" >0.98</td>\n",
       "    </tr>\n",
       "    <tr>\n",
       "      <td id=\"T_e1164_row2_col0\" class=\"data row2 col0\" >Support Vector Machine</td>\n",
       "      <td id=\"T_e1164_row2_col1\" class=\"data row2 col1\" >97.78 %</td>\n",
       "      <td id=\"T_e1164_row2_col2\" class=\"data row2 col2\" >0.98</td>\n",
       "    </tr>\n",
       "    <tr>\n",
       "      <td id=\"T_e1164_row3_col0\" class=\"data row3 col0\" >Decision Tree</td>\n",
       "      <td id=\"T_e1164_row3_col1\" class=\"data row3 col1\" >100.00 %</td>\n",
       "      <td id=\"T_e1164_row3_col2\" class=\"data row3 col2\" >1</td>\n",
       "    </tr>\n",
       "    <tr>\n",
       "      <td id=\"T_e1164_row4_col0\" class=\"data row4 col0\" >Random Forest</td>\n",
       "      <td id=\"T_e1164_row4_col1\" class=\"data row4 col1\" >100.00 %</td>\n",
       "      <td id=\"T_e1164_row4_col2\" class=\"data row4 col2\" >1</td>\n",
       "    </tr>\n",
       "  </tbody>\n",
       "</table>\n"
      ],
      "text/plain": [
       "<pandas.io.formats.style.Styler at 0x1de25e9f100>"
      ]
     },
     "execution_count": 40,
     "metadata": {},
     "output_type": "execute_result"
    }
   ],
   "source": [
    "score = pd.DataFrame({'Model' : ['Logistic Regression', 'K-Nearest Neighbours', 'Support Vector Machine', 'Decision Tree', 'Random Forest'],\n",
    "'Accuracy' : ['97.78 %' , '97.78 %', '97.78 %', '100.00 %', '100.00 %' ],\n",
    "'F1-score' : ['0.98','0.98','0.98','1','1']})\n",
    "score.style.hide_index()"
   ]
  },
  {
   "cell_type": "markdown",
   "id": "ed86d492",
   "metadata": {},
   "source": [
    "From the above table, we can see that all the models are good and from those Decision Tree and Decision Tree models are the best models for this data set."
   ]
  },
  {
   "cell_type": "code",
   "execution_count": null,
   "id": "d2d287d9",
   "metadata": {},
   "outputs": [],
   "source": []
  }
 ],
 "metadata": {
  "kernelspec": {
   "display_name": "Python 3 (ipykernel)",
   "language": "python",
   "name": "python3"
  },
  "language_info": {
   "codemirror_mode": {
    "name": "ipython",
    "version": 3
   },
   "file_extension": ".py",
   "mimetype": "text/x-python",
   "name": "python",
   "nbconvert_exporter": "python",
   "pygments_lexer": "ipython3",
   "version": "3.9.7"
  }
 },
 "nbformat": 4,
 "nbformat_minor": 5
}
